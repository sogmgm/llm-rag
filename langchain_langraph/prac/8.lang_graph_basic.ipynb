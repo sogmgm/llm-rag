{
  "cells": [
    {
      "cell_type": "markdown",
      "id": "0a6c5ac5-8308-49ae-ab0b-0a165350befc",
      "metadata": {
        "nteract": {
          "transient": {
            "deleting": false
          }
        }
      },
      "source": [
        "# 랭그래프 "
      ]
    },
    {
      "cell_type": "code",
      "execution_count": 1,
      "id": "f7d2bf7a-bbb1-4e67-8e04-0ea2aa6d4635",
      "metadata": {
        "gather": {
          "logged": 1757857260094
        }
      },
      "outputs": [
        {
          "name": "stdout",
          "output_type": "stream",
          "text": [
            "43b13g4OZS\n",
            "gpt-4.1-mini\n",
            "랭스미스로 추적 중입니다 : lsv2_pt_fd\n"
          ]
        }
      ],
      "source": [
        "from dotenv import load_dotenv\n",
        "import os \n",
        "from langchain_openai import AzureChatOpenAI\n",
        "from langchain_core.output_parsers import StrOutputParser\n",
        "\n",
        "load_dotenv('env', override=True)\n",
        "AZURE_OPENAI_API_KEY = os.getenv('AZURE_OPENAI_API_KEY')\n",
        "END_POINT=os.getenv('END_POINT')\n",
        "MODEL_NAME=os.getenv('MODEL_NAME')\n",
        "print(AZURE_OPENAI_API_KEY[:10])\n",
        "print(MODEL_NAME)\n",
        "\n",
        "AZURE_OPENAI_EMB_API_KEY = os.getenv('AZURE_OPENAI_EMB_API_KEY')\n",
        "EMB_END_POINT=os.getenv('EMB_END_POINT')\n",
        "EMB_MODEL_NAME=os.getenv('EMB_MODEL_NAME')\n",
        "\n",
        "os.environ['LANGCHAIN_API_KEY'] = os.getenv('LANGSMITH_API_KEY')\n",
        "os.environ['LANGCHAIN_ENDPOINT'] = os.getenv('LANGCHAIN_ENDPOINT')\n",
        "os.environ['LANGCHAIN_TRACING_V2'] = 'true' #true, false\n",
        "os.environ['LANGCHAIN_PROJECT'] = 'LANG'\n",
        "\n",
        "if os.getenv('LANGCHAIN_TRACING_V2') == \"true\":\n",
        "    print('랭스미스로 추적 중입니다 :', os.getenv('LANGSMITH_API_KEY')[:10])"
      ]
    },
    {
      "cell_type": "markdown",
      "id": "f2e93704-0cc3-4c36-9669-b44a3a22901e",
      "metadata": {
        "nteract": {
          "transient": {
            "deleting": false
          }
        }
      },
      "source": [
        "## 랭그래프 기본"
      ]
    },
    {
      "cell_type": "code",
      "execution_count": 2,
      "id": "e6291a7b",
      "metadata": {
        "gather": {
          "logged": 1757857263253
        }
      },
      "outputs": [],
      "source": [
        "from langgraph.graph import StateGraph, END\n",
        "from typing import TypedDict, Annotated, List\n",
        "import operator\n",
        "\n",
        "# 1. 상태(State) 정의 및 그래프 초기화\n",
        "class State(TypedDict):\n",
        "    input: str\n",
        "    result: str\n",
        "\n",
        "graph = StateGraph(State)\n",
        "\n",
        "# 2. 노드(Node) 함수 정의\n",
        "def model_node(state: State):\n",
        "   \n",
        "    print(\"모델 노드가 실행 됐습니다!\")\n",
        "\n",
        "    # 상태에 액션 기록 추가\n",
        "    return {\"result\": \"성공!!\"}\n",
        "\n",
        "# 3. 노드를 그래프로 추가\n",
        "graph.add_node(\"model\", model_node)\n",
        "\n",
        "# 4. 엣지(Edge) 정의\n",
        "graph.set_entry_point(\"model\")\n",
        "graph.add_edge(\"model\", END)\n",
        "\n",
        "# 5. 그래프 컴파일 및 실행\n",
        "app = graph.compile()"
      ]
    },
    {
      "cell_type": "code",
      "execution_count": null,
      "id": "b8bb9cd8",
      "metadata": {
        "gather": {
          "logged": 1757857270401
        }
      },
      "outputs": [
        {
          "data": {
            "image/png": "[encoded data removed]",
            "text/plain": [
              "<IPython.core.display.Image object>"
            ]
          },
          "execution_count": 3,
          "metadata": {},
          "output_type": "execute_result"
        }
      ],
      "source": [
        "# plot graph\n",
        "from IPython.display import Image\n",
        "Image(app.get_graph().draw_mermaid_png())"
      ]
    },
    {
      "cell_type": "code",
      "execution_count": 4,
      "id": "2cbfb0f5-bd64-4b58-a63b-89d34a235f59",
      "metadata": {
        "gather": {
          "logged": 1757857277505
        }
      },
      "outputs": [
        {
          "name": "stdout",
          "output_type": "stream",
          "text": [
            "모델 노드가 실행 됐습니다!\n",
            "{'input': '입력', 'result': '성공!!'}\n"
          ]
        }
      ],
      "source": [
        "result = app.invoke({'input': '입력', 'result' : ''})\n",
        "print(result)"
      ]
    },
    {
      "cell_type": "code",
      "execution_count": 5,
      "id": "8833b4e1-2509-4c53-a87a-c77cb02b4bb5",
      "metadata": {
        "gather": {
          "logged": 1757857281084
        }
      },
      "outputs": [
        {
          "name": "stdout",
          "output_type": "stream",
          "text": [
            "모델 노드가 실행 됐습니다!\n",
            "{'model': {'result': '성공!!'}}\n"
          ]
        }
      ],
      "source": [
        "for st in app.stream({'input': '입력', 'result' : ''}):\n",
        "    print(st)"
      ]
    },
    {
      "cell_type": "markdown",
      "id": "d09d1766-b4d4-485e-8480-0c71cbaa336a",
      "metadata": {
        "nteract": {
          "transient": {
            "deleting": false
          }
        }
      },
      "source": [
        "## 조건부 엣지가 있는 그래프"
      ]
    },
    {
      "cell_type": "code",
      "execution_count": 6,
      "id": "4e1530b6-4fdb-4cb9-a5c0-df08c1e04c1c",
      "metadata": {
        "gather": {
          "logged": 1757857306095
        }
      },
      "outputs": [],
      "source": [
        "from langgraph.graph import StateGraph, END\n",
        "from typing import TypedDict, Annotated, List\n",
        "import operator, random\n",
        "\n",
        "# 1) 상태(State)\n",
        "class State(TypedDict):\n",
        "    input: str\n",
        "    all_actions: Annotated[List[str], operator.add] #<-- 리듀서: 노드에서 값을 반환할 때 하는 동작\n",
        "\n",
        "# 2) 노드(Node)\n",
        "def model_node(state: State):\n",
        "\n",
        "    print(\"[model] 모델이 아무것도 안했습니다!\")\n",
        "\n",
        "    return {\"all_actions\": [\"model_decision\"]}\n",
        "\n",
        "def tool_node(state: State):\n",
        "\n",
        "    print(\"[tools] 뭔가 대단한 걸 했습니다!\")\n",
        "\n",
        "    return {\"all_actions\": [\"tool_action\"]}\n",
        "\n",
        "# 3) 조건부 엣지: 랜덤으로 바로 END 또는 tools 거쳐 END\n",
        "def random_route(state: State) -> str:\n",
        "    route = random.choice([\"end_direct\", \"via_tools\"])\n",
        "    print(f\"[route] 랜덤 결정: {route}\")\n",
        "    return route\n",
        "\n",
        "# 4) 그래프 구성\n",
        "graph = StateGraph(State)\n",
        "graph.add_node(\"model\", model_node)\n",
        "graph.add_node(\"tools\", tool_node)\n",
        "\n",
        "graph.set_entry_point(\"model\")\n",
        "\n",
        "graph.add_conditional_edges(\n",
        "    \"model\",\n",
        "    random_route,\n",
        "    {\n",
        "        \"end_direct\": END,\n",
        "        \"via_tools\": \"tools\"\n",
        "    }\n",
        ")\n",
        "\n",
        "# tools → END\n",
        "graph.add_edge(\"tools\", END)\n",
        "\n",
        "# 5) 컴파일\n",
        "app = graph.compile()"
      ]
    },
    {
      "cell_type": "code",
      "execution_count": 7,
      "id": "7c3d23ab-2600-4985-b57b-0a8bd12001de",
      "metadata": {
        "gather": {
          "logged": 1757857309532
        }
      },
      "outputs": [
        {
          "data": {
            "image/png": "[encoded data removed]",
            "text/plain": [
              "<IPython.core.display.Image object>"
            ]
          },
          "execution_count": 7,
          "metadata": {},
          "output_type": "execute_result"
        }
      ],
      "source": [
        "Image(app.get_graph().draw_mermaid_png())"
      ]
    },
    {
      "cell_type": "code",
      "execution_count": 8,
      "id": "9f112213-628e-460f-bf47-5cc0095d3ef7",
      "metadata": {
        "gather": {
          "logged": 1757857332107
        }
      },
      "outputs": [
        {
          "name": "stdout",
          "output_type": "stream",
          "text": [
            "[model] 모델이 아무것도 안했습니다!\n",
            "[route] 랜덤 결정: via_tools\n",
            "[tools] 뭔가 대단한 걸 했습니다!\n",
            "{'input': 'hello', 'all_actions': ['model_decision', 'tool_action']}\n"
          ]
        }
      ],
      "source": [
        "result = app.invoke({\"input\": \"hello\", \"all_actions\": []})\n",
        "print(result)"
      ]
    },
    {
      "cell_type": "markdown",
      "id": "1fd33d4e-20b0-45c9-9737-db787ad34e39",
      "metadata": {
        "nteract": {
          "transient": {
            "deleting": false
          }
        }
      },
      "source": [
        "## 반복이 있는 그래프"
      ]
    },
    {
      "cell_type": "code",
      "execution_count": 9,
      "id": "fd7f70b1",
      "metadata": {
        "gather": {
          "logged": 1757857432104
        }
      },
      "outputs": [],
      "source": [
        "from langgraph.graph import StateGraph, END\n",
        "from typing import TypedDict, Annotated, List\n",
        "import operator, random\n",
        "\n",
        "# 1) 상태(State)\n",
        "class State(TypedDict):\n",
        "    input: str\n",
        "    iter: int          # 반복 횟수\n",
        "    all_actions: Annotated[List[str], operator.add]   #<-- 리듀서: 노드에서 값을 반환할 때 하는 동작\n",
        "\n",
        "# 2) 노드(Node)\n",
        "def model_node(state: State):\n",
        "\n",
        "    # cur_iter = state.get(\"iter\", 0) + 1\n",
        "    iter_up = state['iter'] + 1\n",
        "    print(f\"[model] 모델 분기 고민 중... (iter={iter_up})\")\n",
        "\n",
        "    # 액션 로그에 기록\n",
        "    return {\n",
        "        \"iter\": iter_up,\n",
        "        \"all_actions\": [f\"model_{iter_up}\"]\n",
        "    }\n",
        "\n",
        "def tool_node(state: State):\n",
        "    print(f\"[tools] 뭔가 대단한 걸 했습니다!\")\n",
        "    return {\"all_actions\": [f\"tool_{state['iter']}\"]}\n",
        "\n",
        "# 3) 조건부 엣지\n",
        "def should_continue(state: State) -> str:\n",
        "    if state[\"iter\"] >= 4:\n",
        "        print(\"반복이 지정된 횟수를 초과했으므로 종료합니다.\")\n",
        "        return \"end\"\n",
        "\n",
        "    return \"continue\"\n",
        "\n",
        "# 4) 그래프 구성\n",
        "graph = StateGraph(State)\n",
        "graph.add_node(\"model\", model_node)\n",
        "graph.add_node(\"tools\", tool_node)\n",
        "\n",
        "graph.set_entry_point(\"model\")\n",
        "graph.add_edge(\"tools\", \"model\")\n",
        "\n",
        "graph.add_conditional_edges(\n",
        "    \"model\",\n",
        "    should_continue,\n",
        "    {\n",
        "        \"continue\": \"tools\", #should_continue함수의 return이 continue이면 tool로 \n",
        "        \"end\": END           #should_continue함수의 return이 end이면 END로\n",
        "    }\n",
        ")\n",
        "\n",
        "app = graph.compile()"
      ]
    },
    {
      "cell_type": "code",
      "execution_count": 10,
      "id": "60f63c8c-7cae-4326-bc40-80d813f20895",
      "metadata": {
        "gather": {
          "logged": 1757857436283
        }
      },
      "outputs": [
        {
          "data": {
            "image/png": "[encoded data removed]",
            "text/plain": [
              "<IPython.core.display.Image object>"
            ]
          },
          "execution_count": 10,
          "metadata": {},
          "output_type": "execute_result"
        }
      ],
      "source": [
        "Image(app.get_graph().draw_mermaid_png())"
      ]
    },
    {
      "cell_type": "code",
      "execution_count": 11,
      "id": "1eefacc4-2a22-4e36-8a19-48b1336e1aeb",
      "metadata": {
        "gather": {
          "logged": 1757857437148
        }
      },
      "outputs": [
        {
          "name": "stdout",
          "output_type": "stream",
          "text": [
            "[model] 모델 분기 고민 중... (iter=1)\n",
            "[tools] 뭔가 대단한 걸 했습니다!\n",
            "[model] 모델 분기 고민 중... (iter=2)\n",
            "[tools] 뭔가 대단한 걸 했습니다!\n",
            "[model] 모델 분기 고민 중... (iter=3)\n",
            "[tools] 뭔가 대단한 걸 했습니다!\n",
            "[model] 모델 분기 고민 중... (iter=4)\n",
            "반복이 지정된 횟수를 초과했으므로 종료합니다.\n",
            "{'input': 'hello', 'iter': 4, 'all_actions': ['model_1', 'tool_1', 'model_2', 'tool_2', 'model_3', 'tool_3', 'model_4']}\n"
          ]
        }
      ],
      "source": [
        "result = app.invoke({\"input\": \"hello\", \"iter\": 0, \"all_actions\": []})\n",
        "print(result)"
      ]
    },
    {
      "cell_type": "markdown",
      "id": "18083df9-f48f-47e6-8408-4f2fbf849c49",
      "metadata": {
        "nteract": {
          "transient": {
            "deleting": false
          }
        }
      },
      "source": [
        "## 반복이 있는 그래프 2 - 리듀서 \n",
        "\n",
        "이번엔 iter에 리듀서를 추가하고 삭제해봅시다. model_node를 다시 봅시다."
      ]
    },
    {
      "cell_type": "code",
      "execution_count": 12,
      "id": "0f5374eb-d834-404a-88c3-341f8ee7c8fc",
      "metadata": {
        "gather": {
          "logged": 1757857513107
        }
      },
      "outputs": [],
      "source": [
        "from langgraph.graph import StateGraph, END\n",
        "from typing import TypedDict, Annotated, List\n",
        "import operator, random\n",
        "\n",
        "# 1) 상태(State)\n",
        "\n",
        "# 리듀서 함수 \n",
        "# 이전에 state값과 현재 갱신된 state 두 개를 받아서 합치는 방법을 결정\n",
        "increment = lambda old, new : old + 1  #실행될 때마다 자동 +1\n",
        "\n",
        "class State(TypedDict):\n",
        "    input: str\n",
        "    iter: Annotated[int, increment]          # Annotated를 사용하면 리듀서를 설정할 수 있습니다.\n",
        "    all_actions: List[str]               #<-- 이번엔 반대로 all action에 리듀서를 제거\n",
        "\n",
        "# 2) 노드(Node)\n",
        "def model_node(state: State):\n",
        "\n",
        "    print(f\"[model] 모델 분기 고민 중... (iter={state['iter']})\")\n",
        "    \n",
        "    return { \n",
        "        \"iter\": None, #<-- 아무것도 리턴하지 않아도 리듀서에 의해서 값이 1 증가\n",
        "        \"all_actions\": [f\"model_{state['iter']}\"]\n",
        "    }\n",
        "\n",
        "def tool_node(state: State):\n",
        "    print(f\"[tools] 뭔가 대단한 걸 했습니다!\")\n",
        "    return {\"all_actions\": [f\"tool_{state['iter']}\"]}\n",
        "\n",
        "# 3) 조건부 엣지\n",
        "def should_continue(state: State) -> str:\n",
        "    if state[\"iter\"] >= 4:\n",
        "        print(\"반복이 지정된 횟수를 초과했으므로 종료합니다.\")\n",
        "        return \"end\"\n",
        "\n",
        "    return \"continue\"\n",
        "\n",
        "# 4) 그래프 구성\n",
        "graph = StateGraph(State)\n",
        "graph.add_node(\"model\", model_node)\n",
        "graph.add_node(\"tools\", tool_node)\n",
        "\n",
        "graph.set_entry_point(\"model\")\n",
        "graph.add_edge(\"tools\", \"model\")\n",
        "\n",
        "graph.add_conditional_edges(\n",
        "    \"model\",\n",
        "    should_continue,\n",
        "    {\n",
        "        \"continue\": \"tools\",\n",
        "        \"end\": END\n",
        "    }\n",
        ")\n",
        "\n",
        "app = graph.compile()"
      ]
    },
    {
      "cell_type": "code",
      "execution_count": 13,
      "id": "f0d5c6f4-ff97-4939-9953-2b3aaf281a32",
      "metadata": {
        "gather": {
          "logged": 1757857515221
        }
      },
      "outputs": [
        {
          "data": {
            "image/png": "[encoded data removed]",
            "text/plain": [
              "<IPython.core.display.Image object>"
            ]
          },
          "execution_count": 13,
          "metadata": {},
          "output_type": "execute_result"
        }
      ],
      "source": [
        "Image(app.get_graph().draw_mermaid_png())"
      ]
    },
    {
      "cell_type": "markdown",
      "id": "14771305-8d15-4e4d-a3fe-6c1da6514fa4",
      "metadata": {
        "nteract": {
          "transient": {
            "deleting": false
          }
        }
      },
      "source": [
        "all_actions에 리듀서가 없으므로 노드가 리턴한 최신 값으로 갱신됨"
      ]
    },
    {
      "cell_type": "code",
      "execution_count": 14,
      "id": "9d9a3371-5827-4c3b-9097-5667eeedc335",
      "metadata": {
        "gather": {
          "logged": 1757857518626
        }
      },
      "outputs": [
        {
          "name": "stdout",
          "output_type": "stream",
          "text": [
            "[model] 모델 분기 고민 중... (iter=1)\n",
            "[tools] 뭔가 대단한 걸 했습니다!\n",
            "[model] 모델 분기 고민 중... (iter=2)\n",
            "[tools] 뭔가 대단한 걸 했습니다!\n",
            "[model] 모델 분기 고민 중... (iter=3)\n",
            "반복이 지정된 횟수를 초과했으므로 종료합니다.\n",
            "{'input': 'hello', 'iter': 4, 'all_actions': ['model_3']}\n"
          ]
        }
      ],
      "source": [
        "result = app.invoke({\"input\": \"hello\", \"iter\": 0, \"all_actions\": []})\n",
        "print(result)"
      ]
    },
    {
      "cell_type": "markdown",
      "id": "06bfec20-7447-47d3-bd1d-cfc15737d8c1",
      "metadata": {
        "nteract": {
          "transient": {
            "deleting": false
          }
        }
      },
      "source": [
        "## 나이별 용어 설명기 만들기"
      ]
    },
    {
      "cell_type": "code",
      "execution_count": 15,
      "id": "f4984a9a-fe28-4b37-ad95-234ab0f3d817",
      "metadata": {
        "gather": {
          "logged": 1757857808056
        }
      },
      "outputs": [],
      "source": [
        "from typing import TypedDict, Annotated, List, Optional\n",
        "from langgraph.graph import StateGraph, END\n",
        "from langchain_openai import ChatOpenAI\n",
        "from langchain_core.prompts import ChatPromptTemplate\n",
        "\n",
        "from langchain_openai import AzureChatOpenAI\n",
        "\n",
        "llm = AzureChatOpenAI(\n",
        "    api_key=AZURE_OPENAI_API_KEY,\n",
        "    azure_endpoint=END_POINT,  \n",
        "    azure_deployment=MODEL_NAME,          \n",
        "    api_version=\"2024-12-01-preview\",\n",
        "    temperature=0.2,\n",
        ")\n",
        "\n",
        "# 1) 상태 정의\n",
        "class State(TypedDict):\n",
        "    term: str                       # 설명할 용어 \n",
        "    age: int                        # 대상 나이\n",
        "    audience: Optional[str]         # 분기 결과: \"kinder\"|\"elementary\"|\"teen\"|\"expert\"\n",
        "    result: Optional[str]           # 최종 설명문\n",
        "    logs: Optional[str]            # 누가 수행되었는지 로그\n",
        "\n",
        "# 2) 라우터(조건부 분기 기준 계산)\n",
        "def audience_router(state: State) -> dict:\n",
        "    age = state[\"age\"]\n",
        "    if age < 8:\n",
        "        audience = \"kinder\"\n",
        "    elif age <= 13:\n",
        "        audience = \"elementary\"\n",
        "    elif age <= 20:\n",
        "        audience = \"teen\"\n",
        "    else:\n",
        "        audience = \"expert\"\n",
        "    return {\"audience\": audience, \"logs\": [f\"[route]\"]}\n",
        "\n",
        "# 3) 각 타깃별 프롬프트 (LLM은 동일, 톤만 바꿈)\n",
        "prompt_kinder = ChatPromptTemplate.from_messages([\n",
        "    (\"system\",\n",
        "     \"너는 유치원생에게 친절하고 재미있게 설명하는 선생님이야. \"\n",
        "     \"어려운 말은 쓰지 말고, 짧고 쉽게, 비유를 꼭 하나 써줘.\"),\n",
        "    (\"user\", \"단어: {term}\\n를 {age}살 유치원생에게 설명해줘. \")\n",
        "])\n",
        "\n",
        "prompt_elementary = ChatPromptTemplate.from_messages([\n",
        "    (\"system\",\n",
        "     \"너는 초등학생에게 설명하는 선생님이야. 핵심 정의 1~2문장 + 쉬운 예시를 포함해.\"),\n",
        "    (\"user\", \"용어: {term}\\n를 {age}살 초등학생 수준으로 설명해줘.\")\n",
        "])\n",
        "\n",
        "prompt_teen = ChatPromptTemplate.from_messages([\n",
        "    (\"system\",\n",
        "     \"너는 중고등학생에게 설명하는 선생님이야. \"\n",
        "     \"정의→원리→간단한 응용 순서로 5~7문장 내로 정리해.\"\n",
        "     \"교과과정에서 어떤 부분을 더 학습하면 좋은지도 간단하게 소개해줘\"),\n",
        "    (\"user\", \"용어: {term}\\n를 {age}살 중고등학생 수준으로 설명해줘.\")\n",
        "])\n",
        "\n",
        "prompt_expert = ChatPromptTemplate.from_messages([\n",
        "    (\"system\",\n",
        "     \"너는 전문가가 전문가에게 설명하듯 기술적으로 설명해. \"\n",
        "     \"핵심 개념, 수식/알고리즘 포인트, 실무적 고려사항을 간결히.\"),\n",
        "    (\"user\", \"용어: {term}\\n를 전문가 수준으로 설명해줘.\")\n",
        "])\n",
        "\n",
        "def explain_kinder(state: State) -> dict:\n",
        "    out = (prompt_kinder | llm).invoke({\"term\": state[\"term\"], \"age\" : state['age']})\n",
        "    return {\"result\": out.content, \"logs\": [\"[kinder]\"]}\n",
        "\n",
        "def explain_elementary(state: State) -> dict:\n",
        "    out = (prompt_elementary | llm).invoke({\"term\": state[\"term\"], \"age\" : state['age']})\n",
        "    return {\"result\": out.content, \"logs\": [\"[elementary]\"]}\n",
        "\n",
        "def explain_teen(state: State) -> dict:\n",
        "    out = (prompt_teen | llm).invoke({\"term\": state[\"term\"], \"age\" : state['age']})\n",
        "    return {\"result\": out.content, \"logs\": [\"[teen]\"]}\n",
        "\n",
        "def explain_expert(state: State) -> dict:\n",
        "    out = (prompt_expert | llm).invoke({\"term\": state[\"term\"]})\n",
        "    return {\"result\": out.content, \"logs\": [\"[expert]\"]}\n",
        "\n",
        "# 4) 그래프 구성 (조건부 엣지)\n",
        "graph = StateGraph(State)\n",
        "graph.add_node(\"route\", audience_router)\n",
        "graph.add_node(\"kinder\", explain_kinder)\n",
        "graph.add_node(\"elementary\", explain_elementary)\n",
        "graph.add_node(\"teen\", explain_teen)\n",
        "graph.add_node(\"expert\", explain_expert)\n",
        "\n",
        "graph.set_entry_point(\"route\")\n",
        "\n",
        "def route_by_age(state: State) -> str:\n",
        "    return state[\"audience\"] or \"expert\"\n",
        "\n",
        "graph.add_conditional_edges(\"route\", route_by_age, {\n",
        "    \"kinder\": \"kinder\",\n",
        "    \"elementary\": \"elementary\",\n",
        "    \"teen\": \"teen\",\n",
        "    \"expert\": \"expert\",\n",
        "})\n",
        "\n",
        "# 각 분기 종료\n",
        "graph.add_edge(\"kinder\", END)\n",
        "graph.add_edge(\"elementary\", END)\n",
        "graph.add_edge(\"teen\", END)\n",
        "graph.add_edge(\"expert\", END)\n",
        "\n",
        "app = graph.compile()"
      ]
    },
    {
      "cell_type": "code",
      "execution_count": 16,
      "id": "5e864269-07c5-4ea5-8e9c-8c88cdea5563",
      "metadata": {
        "gather": {
          "logged": 1757857810583
        }
      },
      "outputs": [
        {
          "data": {
            "image/png": "[encoded data removed]",
            "text/plain": [
              "<IPython.core.display.Image object>"
            ]
          },
          "execution_count": 16,
          "metadata": {},
          "output_type": "execute_result"
        }
      ],
      "source": [
        "Image(app.get_graph().draw_mermaid_png())"
      ]
    },
    {
      "cell_type": "code",
      "execution_count": 17,
      "id": "c814278b-7bf2-4fc8-8174-da6f5c507113",
      "metadata": {
        "gather": {
          "logged": 1757857841241
        }
      },
      "outputs": [
        {
          "name": "stdout",
          "output_type": "stream",
          "text": [
            "\n",
            "===========\n",
            " age: 4 audience: kinder ===\n",
            "인공지능은 똑똑한 로봇 친구야! 마치 장난감 자동차가 혼자 움직이는 것처럼, 인공지능은 컴퓨터가 똑똑하게 생각하고 도와주는 거야. 그래서 우리가 물어보면 답도 해주고, 게임도 같이 할 수 있어!\n",
            "LOGS: ['[kinder]']\n",
            "\n",
            "===========\n",
            " age: 10 audience: elementary ===\n",
            "인공지능은 컴퓨터가 사람처럼 똑똑하게 생각하고 배우는 기술이에요. 예를 들어, 스마트폰에서 말하면 답해 주거나, 게임에서 적을 알아서 이기는 것도 인공지능 덕분이에요.\n",
            "LOGS: ['[elementary]']\n",
            "\n",
            "===========\n",
            " age: 16 audience: teen ===\n",
            "인공지능이란 컴퓨터나 기계가 사람처럼 생각하고 배우는 능력을 가지도록 만드는 기술을 말해. 원리는 컴퓨터에 많은 데이터를 주고, 그 데이터를 바탕으로 스스로 규칙을 찾아 문제를 해결하게 하는 거야. 예를 들어, 인공지능은 사진 속에서 고양이와 강아지를 구분하거나, 음성으로 명령을 이해해서 스마트폰을 작동시킬 수 있어. 이렇게 인공지능은 우리 생활을 더 편리하게 만들어 주지. 더 깊게 배우고 싶다면 중학교나 고등학교에서 배우는 ‘컴퓨터 과학’과 ‘수학(특히 확률과 통계, 알고리즘)’을 공부하면 좋아. 이 과목들이 인공지능의 원리를 이해하는 데 큰 도움이 될 거야.\n",
            "LOGS: ['[teen]']\n",
            "\n",
            "===========\n",
            " age: 30 audience: expert ===\n",
            "인공지능(AI, Artificial Intelligence)은 인간의 인지능력, 학습, 추론, 문제 해결, 자연어 이해 등 지능적 행위를 컴퓨터 시스템이 모방하도록 설계된 기술 및 이론의 총체다. \n",
            "\n",
            "핵심 개념:\n",
            "- 지능적 에이전트: 환경을 인지하고 목표 달성을 위해 행동하는 시스템\n",
            "- 학습 알고리즘: 데이터로부터 패턴을 추출해 모델을 개선하는 과정 (예: 지도학습, 비지도학습, 강화학습)\n",
            "- 추론 및 의사결정: 논리적 규칙이나 확률 모델을 통해 불확실성 하에서 판단 수행\n",
            "- 표현 및 지식 표현: 도메인 지식을 구조화하여 활용 (예: 온톨로지, 시맨틱 네트워크)\n",
            "\n",
            "수식/알고리즘 포인트:\n",
            "- 머신러닝 모델은 주로 함수 근사 문제로 정의: \\( f: X \\rightarrow Y \\), 데이터 \\( \\{(x_i, y_i)\\}_{i=1}^n \\)로부터 최적 파라미터 \\(\\theta^*\\)를 찾음\n",
            "- 최적화 문제: \\(\\theta^* = \\arg\\min_\\theta \\sum_{i=1}^n L(f(x_i; \\theta), y_i)\\), 여기서 \\(L\\)은 손실 함수\n",
            "- 강화학습은 마르코프 결정 과정(MDP) 기반, 정책 \\(\\pi(a|s)\\) 최적화, 벨만 방정식 활용\n",
            "- 딥러닝은 다층 신경망을 통한 비선형 함수 근사, 역전파 알고리즘으로 파라미터 갱신\n",
            "\n",
            "실무적 고려사항:\n",
            "- 데이터 품질과 양이 모델 성능에 결정적 영향\n",
            "- 과적합 방지 및 일반화 능력 확보를 위한 정규화, 교차검증 필수\n",
            "- 계산 자원과 시간 복잡도 고려, 특히 대규모 딥러닝 모델에서 GPU/TPU 활용\n",
            "- 윤리적 문제, 편향성, 투명성 확보 및 설명 가능성(Explainability) 중요\n",
            "- 도메인 특화 지식과 AI 기술 융합 필요성 증대\n",
            "\n",
            "요약하면, 인공지능은 수학적 최적화와 알고리즘을 기반으로 인간 지능의 특정 기능을 자동화하는 컴퓨팅 기술이며, 실무에서는 데이터, 모델, 자원, 윤리적 측면을 균형 있게 관리하는 것이 핵심이다.\n",
            "LOGS: ['[expert]']\n"
          ]
        }
      ],
      "source": [
        "for age in (4, 10, 16, 30):\n",
        "    init_state = {\"term\": \"인공지능이 뭐야?\", \"age\": age, \"audience\": None, \"result\": None, \"logs\": None}\n",
        "    out = app.invoke(init_state)\n",
        "    print(\"\\n===========\\n age:\", age, \"audience:\", out[\"audience\"], \"===\")\n",
        "    print(out[\"result\"])\n",
        "    print(\"LOGS:\", out[\"logs\"])"
      ]
    },
    {
      "cell_type": "markdown",
      "id": "20796e42",
      "metadata": {},
      "source": [
        "## 랭그래프로 RAG 만들기 "
      ]
    },
    {
      "cell_type": "code",
      "execution_count": 21,
      "id": "11575752-bf3d-4198-9faa-23f643919181",
      "metadata": {},
      "outputs": [],
      "source": [
        "import os\n",
        "from typing import List, TypedDict\n",
        "\n",
        "from langchain_community.document_loaders import PyPDFLoader\n",
        "from langchain_text_splitters import RecursiveCharacterTextSplitter\n",
        "from langchain_core.documents import Document\n",
        "from langchain_core.output_parsers import StrOutputParser\n",
        "from langchain_openai import AzureOpenAIEmbeddings, AzureChatOpenAI\n",
        "\n",
        "from langchain_community.vectorstores import FAISS\n",
        "from langchain_core.prompts import ChatPromptTemplate\n",
        "from langgraph.graph import StateGraph, END"
      ]
    },
    {
      "cell_type": "code",
      "execution_count": 26,
      "id": "fb29b7f8",
      "metadata": {},
      "outputs": [
        {
          "name": "stdout",
          "output_type": "stream",
          "text": [
            "데이터 로드 완료\n",
            "분할 완료\n",
            "임베딩 및 저장 완료\n"
          ]
        }
      ],
      "source": [
        "from langchain_community.document_loaders import PyMuPDFLoader\n",
        "\n",
        "loader = PyMuPDFLoader(\"pdf/인터넷서비스_이용약관.pdf\", mode=\"page\") \n",
        "docs = loader.load()\n",
        "\n",
        "print('데이터 로드 완료')\n",
        "\n",
        "from langchain_text_splitters import RecursiveCharacterTextSplitter\n",
        "\n",
        "splitter = RecursiveCharacterTextSplitter(\n",
        "    chunk_size=600,\n",
        "    chunk_overlap=50,\n",
        "    separators=[\"\\n\\n\", \"\\n\", \"  \", \" \"]\n",
        ")\n",
        "splits = splitter.split_documents(docs)\n",
        "\n",
        "print('분할 완료')\n",
        "\n",
        "from langchain_community.vectorstores import Chroma, FAISS\n",
        "from langchain_openai import AzureOpenAIEmbeddings\n",
        "\n",
        "emb = AzureOpenAIEmbeddings(\n",
        "    model=EMB_MODEL_NAME,                      \n",
        "    api_key=AZURE_OPENAI_EMB_API_KEY,\n",
        "    azure_endpoint=EMB_END_POINT,\n",
        "    api_version=\"2024-08-01-preview\"\n",
        ")\n",
        "vectordb = FAISS.from_documents(splits,emb)\n",
        "retriever = vectordb.as_retriever(search_type=\"similarity\", search_kwargs={\"k\": 10})\n",
        "print('임베딩 및 저장 완료')"
      ]
    },
    {
      "cell_type": "code",
      "execution_count": 29,
      "id": "0705f02c",
      "metadata": {},
      "outputs": [
        {
          "data": {
            "image/png": "[encoded data removed]",
            "text/plain": [
              "<langgraph.graph.state.CompiledStateGraph object at 0x76c9fa686540>"
            ]
          },
          "execution_count": 29,
          "metadata": {},
          "output_type": "execute_result"
        }
      ],
      "source": [
        "class State(TypedDict):\n",
        "    question: str\n",
        "    context: str\n",
        "    answer: str\n",
        "\n",
        "def build_context(docs: List[Document]) -> str:\n",
        "    return \"\\n\\n-----\\n\\n\".join(d.page_content + f\"\\n\\n <출처>: {d.metadata['source']} - {d.metadata['page']}\" for d in docs)\n",
        "\n",
        "def retriever_node(state: State) -> State:\n",
        "    found = retriever.invoke(state[\"question\"])\n",
        "    return {\"context\": build_context(found)}\n",
        "\n",
        "llm = AzureChatOpenAI(\n",
        "    api_key=AZURE_OPENAI_API_KEY,\n",
        "    azure_endpoint=END_POINT,  \n",
        "    azure_deployment=MODEL_NAME,          \n",
        "    api_version=\"2024-12-01-preview\",\n",
        "    temperature=0.1,\n",
        ")\n",
        "\n",
        "prompt = ChatPromptTemplate.from_messages([\n",
        "    (\"system\",\n",
        "     \"너는 통신사 고객상담을 위한 이용약관 문서 기반 QA 어시스턴트다. 아래 규칙을 지켜라.\\n\"\n",
        "     \"1) 제공된 컨텍스트(표/본문)에서만 근거를 찾아 답한다.\\n\"\n",
        "     \"2) 컨택스트 내에 해당하는 정보가 없으면 모른다고 말한다. 추측 금지.\\n\"\n",
        "     \"3) 숫자/조건/예외는 정확히 인용하라.\\n\"\n",
        "     \"4) 표 내용이라면 행/열 헤더를 함께 언급해 맥락을 명확히 한다.\\n\"\n",
        "     \"5) 마지막에 출처 파일과 페이지를 함께 제시한다.\\n\"),\n",
        "    (\"human\", \n",
        "     \"질문: {question}\\n\\n\"\n",
        "     \"컨텍스트:\\n{context}\\n\\n\"\n",
        "     \"답변: \")\n",
        "])\n",
        "\n",
        "def answer_generator_node(state: State) -> State:\n",
        "    out = (prompt | llm  | StrOutputParser()).invoke({\"question\": state[\"question\"], \"context\": state[\"context\"]})\n",
        "    return {\"answer\": out}\n",
        "\n",
        "graph = StateGraph(State)\n",
        "graph.add_node(\"retrieve\", retriever_node)\n",
        "graph.add_node(\"answer\", answer_generator_node)\n",
        "\n",
        "graph.set_entry_point(\"retrieve\")\n",
        "graph.add_edge(\"retrieve\", \"answer\")\n",
        "graph.add_edge(\"answer\", END)\n",
        "\n",
        "app = graph.compile()\n",
        "app"
      ]
    },
    {
      "cell_type": "code",
      "execution_count": 30,
      "id": "848c0246",
      "metadata": {},
      "outputs": [
        {
          "name": "stdout",
          "output_type": "stream",
          "text": [
            "오피스IP팩은 다수의 IP를 필요로 하는 소규모 오피스 대상 서비스입니다. 이 서비스는 개인, 개인사업자, 법인사업자를 대상으로 하며, KT의 초고속인터넷 회선 서비스 기반으로 제공됩니다. 오피스IP 서비스는 인터넷이 일시정지, 이용정지, 설비정지되면 IP서비스도 사용이 불가하며 중단기간은 실사용 기간에서 제외됩니다. 또한, 오피스IP 서비스는 사용 단말 수를 제한하지 않습니다.\n",
            "\n",
            "오피스IP넷 플러스(GiGA WiFi premium)와 오피스넷 와이파이(GiGA WiFi home) 등 다양한 상품이 있으며, 각각 KT WiFi AP 장비 또는 KT GiGA WiFi Secure 장비를 함께 제공합니다. 기본적으로 유동IP로 인터넷서비스를 제공하며, 고정IP는 기본상품 기반으로 회선 당 최대 3개까지 제공됩니다.\n",
            "\n",
            "요금은 IP당으로 책정되며, 예를 들어 오피스넷 슈퍼프리미엄은 10G 속도에 132,000원, 오피스넷 에센스는 1G 속도에 64,900원 등 다양한 속도와 요금대가 있습니다.\n",
            "\n",
            "요약하면, 오피스IP팩은 소규모 오피스에서 다수의 IP를 필요로 할 때 적합한 KT의 인터넷 서비스로, 고정IP 또는 유동IP를 선택할 수 있고, WiFi 장비와 보안 솔루션을 함께 제공하는 상품군입니다.\n",
            "\n",
            "출처: pdf/인터넷서비스_이용약관.pdf, 페이지 199~206, 210~211\n"
          ]
        }
      ],
      "source": [
        "result = app.invoke({\"question\": \"오피스IP팩은 어떤 서비스야?\"})\n",
        "print(result[\"answer\"])"
      ]
    },
    {
      "cell_type": "code",
      "execution_count": null,
      "id": "cbd51ace",
      "metadata": {},
      "outputs": [],
      "source": []
    }
  ],
  "metadata": {
    "kernel_info": {
      "name": "python310-sdkv2"
    },
    "kernelspec": {
      "display_name": "KT AI Academy",
      "language": "python",
      "name": "kt_ai_academy"
    },
    "language_info": {
      "codemirror_mode": {
        "name": "ipython",
        "version": 3
      },
      "file_extension": ".py",
      "mimetype": "text/x-python",
      "name": "python",
      "nbconvert_exporter": "python",
      "pygments_lexer": "ipython3",
      "version": "3.11.11"
    },
    "microsoft": {
      "host": {
        "AzureML": {
          "notebookHasBeenCompleted": true
        }
      }
    },
    "nteract": {
      "version": "nteract-front-end@1.0.0"
    }
  },
  "nbformat": 4,
  "nbformat_minor": 5
}
