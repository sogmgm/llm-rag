{
  "cells": [
    {
      "cell_type": "code",
      "execution_count": null,
      "id": "2b05224a",
      "metadata": {
        "gather": {
          "logged": 1757856177031
        }
      },
      "outputs": [
        {
          "name": "stdout",
          "output_type": "stream",
          "text": [
            "43b13g4OZS\n",
            "gpt-4.1-mini\n",
            "랭스미스로 추적 중입니다 : lsv2_pt_24\n"
          ]
        }
      ],
      "source": [
        "from dotenv import load_dotenv\n",
        "import os \n",
        "from langchain_openai import AzureChatOpenAI\n",
        "from langchain_core.output_parsers import StrOutputParser\n",
        "\n",
        "load_dotenv('env', override=True)\n",
        "AZURE_OPENAI_API_KEY = os.getenv('AZURE_OPENAI_API_KEY')\n",
        "END_POINT=os.getenv('END_POINT')\n",
        "MODEL_NAME=os.getenv('MODEL_NAME')\n",
        "# print(AZURE_OPENAI_API_KEY[:10])\n",
        "print(MODEL_NAME)\n",
        "\n",
        "AZURE_OPENAI_EMB_API_KEY = os.getenv('AZURE_OPENAI_EMB_API_KEY')\n",
        "EMB_END_POINT=os.getenv('EMB_END_POINT')\n",
        "EMB_MODEL_NAME=os.getenv('EMB_MODEL_NAME')\n",
        "\n",
        "os.environ['LANGCHAIN_API_KEY'] = os.getenv('LANGSMITH_API_KEY')\n",
        "os.environ['LANGCHAIN_ENDPOINT'] = os.getenv('LANGCHAIN_ENDPOINT')\n",
        "os.environ['LANGCHAIN_TRACING_V2'] = 'true' #true, false\n",
        "os.environ['LANGCHAIN_PROJECT'] = 'LANG'\n",
        "\n",
        "if os.getenv('LANGCHAIN_TRACING_V2') == \"true\":\n",
        "    # print('랭스미스로 추적 중입니다 :', os.getenv('LANGSMITH_API_KEY')[:10])"
      ]
    },
    {
      "cell_type": "markdown",
      "id": "3de98766",
      "metadata": {},
      "source": []
    },
    {
      "cell_type": "markdown",
      "id": "affc891b",
      "metadata": {},
      "source": [
        "## 1. 간단한 IT 용어 사전 만들기"
      ]
    },
    {
      "cell_type": "code",
      "execution_count": 3,
      "id": "33b52352",
      "metadata": {
        "gather": {
          "logged": 1757856207348
        }
      },
      "outputs": [
        {
          "data": {
            "text/plain": [
              "'대역폭: 네트워크나 통신 회선이 일정 시간 내에 전송할 수 있는 데이터의 최대량을 의미하며, 보통 초당 비트 수(bps)로 측정된다.'"
            ]
          },
          "execution_count": 3,
          "metadata": {},
          "output_type": "execute_result"
        }
      ],
      "source": [
        "from langchain.prompts import ChatPromptTemplate\n",
        "from langchain_core.output_parsers import StrOutputParser\n",
        "from langchain_core.runnables import RunnablePassthrough\n",
        "from langchain_openai import AzureChatOpenAI\n",
        "\n",
        "llm = AzureChatOpenAI(\n",
        "    api_key=AZURE_OPENAI_API_KEY,\n",
        "    azure_endpoint=END_POINT,  \n",
        "    azure_deployment=MODEL_NAME,          \n",
        "    api_version=\"2024-12-01-preview\",\n",
        "    temperature=0.2,\n",
        ")\n",
        "\n",
        "prompt = ChatPromptTemplate.from_messages([\n",
        "    (\"system\", \"너는 it 관련 용어를 설명해주는 도우미다. 답변은 한국어로. 간결하고 정확하게. 형식은 '용어: 설명' 형태로 작성하라.\"),\n",
        "    (\"human\", \"다음 IT 용어를 설명하라: {term}\")\n",
        "])\n",
        "\n",
        "chain = {\"term\" : RunnablePassthrough()} | prompt | llm | StrOutputParser()\n",
        "\n",
        "chain.invoke('대역폭')"
      ]
    },
    {
      "cell_type": "markdown",
      "id": "20c72fc1",
      "metadata": {},
      "source": [
        "## 2. 고객 요청사항 요약 봇"
      ]
    },
    {
      "cell_type": "code",
      "execution_count": 4,
      "id": "f936ed58",
      "metadata": {
        "gather": {
          "logged": 1757856387042
        }
      },
      "outputs": [],
      "source": [
        "from typing import List, Literal\n",
        "from pydantic import BaseModel, Field\n",
        "from langchain_openai import AzureChatOpenAI\n",
        "from langchain_core.prompts import ChatPromptTemplate\n",
        "\n",
        "# 1) 스키마 정의\n",
        "class Summary(BaseModel):\n",
        "    등록시간: str = Field(..., description=\"등록 시간\") #...은 누락이 되면 안되는 필수 필드를 의미함\n",
        "    핵심문제: str = Field(..., description=\"고객이 겪는 핵심 문제\")\n",
        "    요청사항: str = Field(..., description=\"고객이 원하는 조치/해결\")\n",
        "    분류: Literal[\"문제해결\",\"기능요청\",\"결제/계정\",\"성능\",\"문의/가이드\",\"기타\"] #Literal은 문자열 리터럴 타입을 의미함\n",
        "    태그: List[str] = Field(..., min_length=3, max_length=5, description=\"소문자, 언더바(_) 사용\")\n",
        "    키워드: List[str] = Field(..., min_length=3, max_length=5, description=\"핵심 명사/용어\")\n",
        "\n",
        "# 2) LLM\n",
        "llm = AzureChatOpenAI(\n",
        "    api_key=AZURE_OPENAI_API_KEY,\n",
        "    azure_endpoint=END_POINT,  \n",
        "    azure_deployment=MODEL_NAME,          \n",
        "    api_version=\"2024-12-01-preview\",\n",
        "    temperature=0.2,\n",
        ")\n",
        "\n",
        "# 3) 구조화 출력용 Runnable, output_parser는 필요없음\n",
        "structured_llm = llm.with_structured_output(Summary)\n",
        "\n",
        "# 4) 프롬프트\n",
        "SYSTEM = (\n",
        "    \"너는 고객 요청 요약 전문가다. 반드시 한국어로 답하고, 아래 기준을 지켜라.\\n\"\n",
        "    \"- 등록 시간 : 현재 시간을 KST 기준으로 yearY/monthM/dayD/hourH/minutem 형식으로 작성하라.\\n\"\n",
        "    \"- 핵심문제, 요청사항: 간결하고 명확하게. 명사형 어미로 끝내라 ex) 발생, 문제, 문의, 요청, 해결\\n\"\n",
        "    \"- 분류: 6개 중 하나 이상으로 엄격히 선택하라\\n\"\n",
        "    \"- 태그: 1~3개, 소문자, 언더바(_) 사용\\n\"\n",
        "    \"- 키워드: 3~5개, 핵심 명사/용어, 가능한 요청 내부에 존재하는 단어를 사용\\n\"\n",
        "    \"- 정보 부족 시 '미상' 사용, 개인정보 미포함\"\n",
        ")\n",
        "prompt = ChatPromptTemplate.from_messages([\n",
        "    (\"system\", SYSTEM),\n",
        "    (\"human\", \"다음 고객 요청을 요약해줘:\\n{request}, 등록시간: {time}\")\n",
        "])\n",
        "\n",
        "# 5) 체인\n",
        "chain = prompt | structured_llm"
      ]
    },
    {
      "cell_type": "code",
      "execution_count": 5,
      "id": "c347ae4c",
      "metadata": {
        "gather": {
          "logged": 1757856389983
        }
      },
      "outputs": [
        {
          "name": "stdout",
          "output_type": "stream",
          "text": [
            "{\n",
            "  \"등록시간\": \"2025Y/10M/16D/10H/29m\",\n",
            "  \"핵심문제\": \"앱 로그인 실패 문제\",\n",
            "  \"요청사항\": \"로그인 문제 해결 요청\",\n",
            "  \"분류\": \"문제해결\",\n",
            "  \"태그\": [\n",
            "    \"로그인\",\n",
            "    \"아이폰\",\n",
            "    \"비밀번호\"\n",
            "  ],\n",
            "  \"키워드\": [\n",
            "    \"앱\",\n",
            "    \"로그인\",\n",
            "    \"비밀번호\",\n",
            "    \"아이폰\",\n",
            "    \"고객센터\"\n",
            "  ]\n",
            "}\n"
          ]
        }
      ],
      "source": [
        "import json\n",
        "from datetime import datetime\n",
        "\n",
        "ticket_text = \"\"\"어제부터 앱 로그인에 계속 실패합니다. 비밀번호를 새로 바꿨는데도 안되네요. 고객 센터 게시판을 봐도 잘 모르겠고 빨리 해결됐으면 합니다. 사용 중인 기기는 아이폰입니다.\"\"\"\n",
        "time = datetime.now().strftime(\"%Y-%m-%d-%H-%M\")\n",
        "output = chain.invoke({\"request\": ticket_text, \"time\": time})\n",
        "\n",
        "print(json.dumps(output.model_dump(), ensure_ascii=False, indent=2))"
      ]
    },
    {
      "cell_type": "markdown",
      "id": "cce4c66c",
      "metadata": {},
      "source": [
        "## 3. 예의바른 번역기"
      ]
    },
    {
      "cell_type": "code",
      "execution_count": 6,
      "id": "8d81bffe",
      "metadata": {
        "gather": {
          "logged": 1757856463038
        }
      },
      "outputs": [
        {
          "name": "stdout",
          "output_type": "stream",
          "text": [
            "Hello, we were supposed to meet tomorrow, but something came up at work, so I don’t think I’ll be able to make it. I’m very sorry. I’m not sure exactly when I’ll be available yet. Let’s definitely meet sometime next week. I’ll contact you as soon as I have a confirmed time."
          ]
        }
      ],
      "source": [
        "from langchain_openai import AzureChatOpenAI\n",
        "from langchain.prompts import ChatPromptTemplate\n",
        "from langchain_core.output_parsers import StrOutputParser\n",
        "from langchain_core.runnables import RunnablePassthrough\n",
        "\n",
        "llm = AzureChatOpenAI(\n",
        "    api_key=AZURE_OPENAI_API_KEY,\n",
        "    azure_endpoint=END_POINT,  \n",
        "    azure_deployment=MODEL_NAME,          \n",
        "    api_version=\"2024-12-01-preview\",\n",
        "    temperature=0.2,\n",
        ")\n",
        "\n",
        "prompt = ChatPromptTemplate.from_messages([\n",
        "    (\"system\", \"너는 다양한 인간 언어를 자유자재로 번역하는 번역기야.\"\n",
        "    \" {input_language}로 된 문장을 {output_language}로 번역해줘. 최대한 자연스럽고 매끄럽게 번역해줘. \"\n",
        "    \"회사에서 사용하는 목적이기 때문에 비즈니스 상황에 맞게 번역해줘.\"\n",
        "    \"이모티콘 등 비즈니스 상황과 맞지 않는 불필요한 요소가 있다면 제거해줘\"\n",
        "    \"줄 바꿈 및 문단 구분이 필요하면 적절히 처리하라\"\n",
        "    ),\n",
        "    (\"human\", \"다음 용어를 번역해줘: {text}\")\n",
        "])\n",
        "\n",
        "prompt = prompt.partial(input_language=\"한국어\",\n",
        "                        output_language=\"영어\",)\n",
        "\n",
        "chain = {\"text\" : RunnablePassthrough()} | prompt | llm | StrOutputParser()\n",
        "\n",
        "text = \"안녕? 내일 만나기로 했었는데 내가 일이 생겨서 못 갈 것 같아. 너무 미안해. 아직 정확하게 언제 시간이 될지 모르겠어. 다음 주 중에는 꼭 보자!. 시간 정해지면 바로 연락할게~ 안뇽~.\"\n",
        "\n",
        "for chunk in chain.stream(text):\n",
        "    print(chunk, end='', flush=True)"
      ]
    },
    {
      "cell_type": "code",
      "execution_count": 7,
      "id": "73eb1d19",
      "metadata": {
        "gather": {
          "logged": 1757856489049
        }
      },
      "outputs": [
        {
          "name": "stdout",
          "output_type": "stream",
          "text": [
            "오늘 즐거웠습니다. 곧 간단한 요약을 보내드리겠습니다. 도착하면 ‘확인했습니다’라고만 답해주시고, 잘못된 부분이 있으면 수정해 알려주세요. 곧 뵙겠습니다."
          ]
        }
      ],
      "source": [
        "query = {\n",
        "    \"text\": \"today was fun 🤗 i’ll send a short recap soon—just say ‘got it’ when it lands ✉️ and tweak anything wrong & tell me! see ya~ 😎\",\n",
        "    \"input_language\": \"영어\",\n",
        "    \"output_language\": \"한국어\"\n",
        "}\n",
        "\n",
        "for chunk in chain.stream(query):\n",
        "    print(chunk, end='', flush=True)"
      ]
    },
    {
      "cell_type": "markdown",
      "id": "87546cbf",
      "metadata": {},
      "source": [
        "## 4. 고객 상담 자동 QA 만들기 (Few-shot)"
      ]
    },
    {
      "cell_type": "markdown",
      "id": "65c2df81",
      "metadata": {},
      "source": [
        "Few-shot은 LLM이 답할 때 참고할 예시를 프롬프트에 포함해 형식이나 사고 절차, 출력 구조를 따르게 하는 기법입니다."
      ]
    },
    {
      "cell_type": "code",
      "execution_count": 3,
      "id": "625b3264",
      "metadata": {
        "gather": {
          "logged": 1757856658134
        }
      },
      "outputs": [],
      "source": [
        "from collections import Counter\n",
        "\n",
        "from langchain_core.prompts import (\n",
        "    ChatPromptTemplate,\n",
        "    FewShotChatMessagePromptTemplate,\n",
        ")\n",
        "from langchain_core.output_parsers import StrOutputParser\n",
        "from langchain_core.example_selectors import SemanticSimilarityExampleSelector\n",
        "from langchain_community.vectorstores import FAISS\n",
        "from langchain_openai import AzureChatOpenAI\n",
        "from langchain_openai import AzureOpenAIEmbeddings\n",
        "\n",
        "# 0) 카테고리 & 연락처 디렉터리\n",
        "CATEGORIES = [\"버그/장애\",\"기능요청\",\"결제/계정\",\"성능\",\"문의/가이드\",\"기타\"]\n",
        "CONTACTS = {\n",
        "    \"버그/장애\":    {\"team\":\"고객지원(장애)\", \"email\":\"support@acme.example\", \"phone\":\"02-123-0551\", \"hours\":\"상시 대응\"},\n",
        "    \"기능요청\":     {\"team\":\"제품기획\",       \"email\":\"pm@acme.example\",      \"phone\":\"02-481-0011\", \"hours\":\"09:00-18:00 KST\"},\n",
        "    \"결제/계정\":    {\"team\":\"청구/계정\",      \"email\":\"billing@acme.example\", \"phone\":\"02-234-1003\", \"hours\":\"09:00-18:00 KST\"},\n",
        "    \"성능\":        {\"team\":\"SRE/성능\",       \"email\":\"sre@acme.example\",     \"phone\":\"02-834-0054\", \"hours\":\"09:00-18:00 KST\"},\n",
        "    \"문의/가이드\":  {\"team\":\"고객지원(가이드)\",\"email\":\"help@acme.example\",    \"phone\":\"02-952-8005\", \"hours\":\"09:00-18:00 KST\"},\n",
        "    \"기타\":        {\"team\":\"일반문의/영업\",   \"email\":\"contact@acme.example\", \"phone\":\"02-114-0306\", \"hours\":\"09:00-18:00 KST\"},\n",
        "}\n",
        "\n",
        "FAQS = [\n",
        "    # ── 버그/장애 ─────────────────────────────────────────────\n",
        "    {\"question\":\"기가인터넷이 자주 끊깁니다. 모뎀 불이 빨간색이에요.\",\n",
        "     \"answer\":\"전원/광단자/랜선 연결을 순서대로 점검하고, 10초 전원 재부팅을 진행해 주세요. 지속 시 장애 접수해주세요.\",\n",
        "     \"category\":\"버그/장애\"},\n",
        "    {\"question\":\"IPTV 화면이 까맣고 소리만 나와요.\",\n",
        "     \"answer\":\"셋톱박스와 TV의 HDMI 케이블을 재결합하고, 셋톱/TV 전원을 순서대로 재부팅해 보세요. 해상도(1080p/2160p)도 확인해 주세요.\",\n",
        "     \"category\":\"버그/장애\"},\n",
        "    {\"question\":\"와이파이에 연결되지만 인터넷이 안 됩니다.\",\n",
        "     \"answer\":\"공유기 WAN(인터넷) 포트 연결과 외부 회선 상태를 확인해 주세요. 모뎀→공유기→단말 순서로 재부팅을 권장합니다.\",\n",
        "     \"category\":\"버그/장애\"},\n",
        "    {\"question\":\"통화가 자주 끊기고 음질이 안 좋아요.\",\n",
        "     \"answer\":\"VoLTE/5G 우선 설정을 확인하고, 특정 지역 이슈인지 상태 공지를 점검해 주세요. 심하면 기지국 점검을 위해 장애 접수 바랍니다.\",\n",
        "     \"category\":\"버그/장애\"},\n",
        "\n",
        "    # ── 기능요청 ─────────────────────────────────────────────\n",
        "    {\"question\":\"가족 결합 회선을 더 추가하고 싶어요.\",\n",
        "     \"answer\":\"가족관계 증빙 후 결합 회선 추가가 가능합니다. 명의자 인증과 서류 제출 경로를 안내해 드릴 수 있어요.\",\n",
        "     \"category\":\"기능요청\"},\n",
        "    {\"question\":\"IPTV 자막 크기/색상을 바꾸는 기능이 있으면 좋겠어요.\",\n",
        "     \"answer\":\"접근성 향상을 위한 UI 개선 요청으로 접수 가능해요. 선호 크기/색상/콘텐츠 유형을 함께 알려주세요.\",\n",
        "     \"category\":\"기능요청\"},\n",
        "    {\"question\":\"eSIM 보조 회선을 추가 지원해 주세요.\",\n",
        "     \"answer\":\"단말 호환 여부와 다회선 정책에 따라 검토됩니다. 사용 목적과 예상 데이터 사용량을 공유해 주세요.\",\n",
        "     \"category\":\"기능요청\"},\n",
        "    {\"question\":\"멤버십 포인트를 자동으로 청구서에 차감하고 싶어요.\",\n",
        "     \"answer\":\"포인트 자동 적용 옵션은 정책에 따라 순차 제공됩니다. 현재는 청구 확정 전 수동 적용을 안내드립니다.\",\n",
        "     \"category\":\"기능요청\"},\n",
        "\n",
        "    # ── 결제/계정 ────────────────────────────────────────────\n",
        "    {\"question\":\"자동이체 계좌를 변경하고 싶습니다.\",\n",
        "     \"answer\":\"본인 인증 후 앱/웹 ‘납부방법 변경’에서 계좌를 수정할 수 있어요. 변경 후 다음 청구분부터 반영됩니다.\",\n",
        "     \"category\":\"결제/계정\"},\n",
        "    {\"question\":\"청구서 이메일 주소를 바꾸고 싶어요.\",\n",
        "     \"answer\":\"마이페이지 > 청구서 수신 설정에서 이메일을 수정하세요. 수정 즉시 다음 고지부터 적용됩니다.\",\n",
        "     \"category\":\"결제/계정\"},\n",
        "    {\"question\":\"연체가 있는데 분할 납부 가능한가요?\",\n",
        "     \"answer\":\"연체 기간/금액에 따라 분할 납부가 가능합니다. 본인 확인 후 납부 계획 수립을 도와드려요.\",\n",
        "     \"category\":\"결제/계정\"},\n",
        "    {\"question\":\"명의 변경(상속/양도)을 하고 싶습니다.\",\n",
        "     \"answer\":\"필요 서류(신분증, 관계 증빙 등) 지참 후 명의 변경이 가능합니다. 상황별 서류 목록과 접수 채널을 안내해 드려요.\",\n",
        "     \"category\":\"결제/계정\"},\n",
        "\n",
        "    # ── 성능 ────────────────────────────────────────────────\n",
        "    {\"question\":\"5G가 자꾸 LTE로 전환돼요.\",\n",
        "     \"answer\":\"건물 내부/지하 등 전파 환경 영향일 수 있어요. 지역/시간대 로그를 제공해 주시면 커버리지 점검을 요청합니다.\",\n",
        "     \"category\":\"성능\"},\n",
        "    {\"question\":\"지하철에서 다운로드 속도가 너무 느립니다.\",\n",
        "     \"answer\":\"혼잡 시간대 셀 부하 가능성이 있어요. 노선/시간 정보를 주시면 용량 증설 대상 검토에 반영됩니다.\",\n",
        "     \"category\":\"성능\"},\n",
        "    {\"question\":\"게임할 때 핑이 튀어요.\",\n",
        "     \"answer\":\"DNS 고정, 백그라운드 앱 정리, 5GHz Wi-Fi 사용을 권장합니다. 서버 지역/시간대 로그를 주시면 추가 분석 가능합니다.\",\n",
        "     \"category\":\"성능\"},\n",
        "    {\"question\":\"해외 로밍 데이터 속도가 일정치 않습니다.\",\n",
        "     \"answer\":\"제휴망/지역에 따라 속도가 상이합니다. 수동 사업자 선택/네트워크 모드 변경으로 개선될 수 있어요.\",\n",
        "     \"category\":\"성능\"},\n",
        "\n",
        "    # ── 문의/가이드 ─────────────────────────────────────────\n",
        "    {\"question\":\"이사로 인터넷/티비 이전 설치를 신청하고 싶어요.\",\n",
        "     \"answer\":\"이전 주소/희망 일자를 알려주시면 설치 가능 여부와 예약 일정을 안내드려요. 장비 반납/재사용도 함께 점검합니다.\",\n",
        "     \"category\":\"문의/가이드\"},\n",
        "    {\"question\":\"AS 방문 예약을 변경하고 싶습니다.\",\n",
        "     \"answer\":\"예약 변경은 방문 전일까지 가능해요. 가능한 날짜/시간대를 알려주시면 재예약을 도와드려요.\",\n",
        "     \"category\":\"문의/가이드\"},\n",
        "    {\"question\":\"국제로밍 설정 방법(iOS/Android)을 알려주세요.\",\n",
        "     \"answer\":\"설정 > 셀룰러/모바일 데이터에서 로밍을 활성화하고, 데이터 옵션을 확인하세요. 요금제/일 상한도 함께 안내드립니다.\",\n",
        "     \"category\":\"문의/가이드\"},\n",
        "    {\"question\":\"IPTV 리모컨이 TV와 연동이 안 됩니다.\",\n",
        "     \"answer\":\"건전지 교체 후 페어링 모드로 진입하여 TV 브랜드 코드를 입력해 주세요. 모델별 코드표 링크를 제공해 드립니다.\",\n",
        "     \"category\":\"문의/가이드\"},\n",
        "\n",
        "    # ── 기타 ────────────────────────────────────────────────\n",
        "    {\"question\":\"약정 만료일과 위약금이 궁금합니다.\",\n",
        "     \"answer\":\"약정 종료일/잔여 약정/위약금은 본인 인증 후 조회 가능합니다. 요금제 변경 시 영향도 함께 안내해 드려요.\",\n",
        "     \"category\":\"기타\"},\n",
        "    {\"question\":\"엔터프라이즈 회선 계약서(SLA 포함)가 필요합니다.\",\n",
        "     \"answer\":\"B2B 전용 계약/SLA 문서 제공이 가능합니다. 회사명/사용 규모/요구 SLA를 알려주시면 담당 부서로 연결합니다.\",\n",
        "     \"category\":\"기타\"},\n",
        "    {\"question\":\"개인정보 열람/삭제를 요청하고 싶어요.\",\n",
        "     \"answer\":\"본인 확인 후 개인정보 열람/삭제/정지 요청이 가능합니다. 처리 범위와 소요 기간을 안내드립니다.\",\n",
        "     \"category\":\"기타\"},\n",
        "    {\"question\":\"스팸/스미싱 문자를 신고하고 싶습니다.\",\n",
        "     \"answer\":\"국번 없이 118 또는 전용 앱에서 신고 가능해요. 발신번호/수신 시각/내용 캡처를 함께 제출해 주세요.\",\n",
        "     \"category\":\"기타\"},\n",
        "\n",
        "]\n",
        "\n",
        "# Example Selector (질문 유사도 기반으로 k개 선택)\n",
        "emb = AzureOpenAIEmbeddings(\n",
        "    model=EMB_MODEL_NAME,                      \n",
        "    api_key=AZURE_OPENAI_EMB_API_KEY,\n",
        "    azure_endpoint=EMB_END_POINT,\n",
        "    api_version=\"2024-08-01-preview\"\n",
        ")\n",
        "\n",
        "selector = SemanticSimilarityExampleSelector.from_examples(\n",
        "    examples=FAQS,\n",
        "    embeddings=emb,\n",
        "    vectorstore_cls=FAISS,\n",
        "    k=3,\n",
        "    input_keys=[\"question\"],  \n",
        ")\n",
        "\n",
        "# 예시를 대화형 포맷으로 렌더링함\n",
        "example_prompt = ChatPromptTemplate.from_messages([\n",
        "    (\"human\", \"Q: {question}\"),\n",
        "    (\"ai\",    \"A: {answer}\\n분류: {category}\")\n",
        "])\n",
        "\n",
        "fewshot = FewShotChatMessagePromptTemplate(\n",
        "    example_selector=selector,\n",
        "    example_prompt=example_prompt,\n",
        ")\n"
      ]
    },
    {
      "cell_type": "code",
      "execution_count": 1,
      "id": "7aa2dcd0",
      "metadata": {},
      "outputs": [
        {
          "ename": "NameError",
          "evalue": "name 'fewshot' is not defined",
          "output_type": "error",
          "traceback": [
            "\u001b[31m---------------------------------------------------------------------------\u001b[39m",
            "\u001b[31mNameError\u001b[39m                                 Traceback (most recent call last)",
            "\u001b[36mCell\u001b[39m\u001b[36m \u001b[39m\u001b[32mIn[1]\u001b[39m\u001b[32m, line 2\u001b[39m\n\u001b[32m      1\u001b[39m \u001b[38;5;66;03m# 검색된 예시를 사람과 ai가 대화했던 과거 채팅 기록처럼 렌더링함\u001b[39;00m\n\u001b[32m----> \u001b[39m\u001b[32m2\u001b[39m \u001b[43mfewshot\u001b[49m.invoke({\u001b[33m\"\u001b[39m\u001b[33mquestion\u001b[39m\u001b[33m\"\u001b[39m: \u001b[33m\"\u001b[39m\u001b[33m연체가 됐어요. 어떡하죠?\u001b[39m\u001b[33m\"\u001b[39m})\n",
            "\u001b[31mNameError\u001b[39m: name 'fewshot' is not defined"
          ]
        }
      ],
      "source": [
        "# 검색된 예시를 사람과 ai가 대화했던 과거 채팅 기록처럼 렌더링함\n",
        "fewshot.invoke({\"question\": \"연체가 됐어요. 어떡하죠?\"})"
      ]
    },
    {
      "cell_type": "code",
      "execution_count": 35,
      "id": "bd7f67a5-8075-476c-8e82-80c8d73e3ae7",
      "metadata": {
        "gather": {
          "logged": 1757856662404
        }
      },
      "outputs": [
        {
          "name": "stdout",
          "output_type": "stream",
          "text": [
            "1) 연체 금액과 기간에 따라 분할 납부가 가능하며, 본인 확인 후 납부 계획을 안내해 드립니다.  \n",
            "2) 빠른 해결을 위해 고객센터에 문의하거나 앱/웹에서 납부 상태를 확인해 주세요.  \n",
            "\n",
            "To-do:  \n",
            "- 고객센터 연락 또는 앱/웹 로그인 후 납부 내역 확인  \n",
            "- 분할 납부 신청 및 납부 계획 상담 요청\n",
            "\n",
            "---\n",
            "### 담당자 연락처\n",
            "- 분류: 결제/계정\n",
            "- 팀: 청구/계정\n",
            "- 이메일: billing@acme.example\n",
            "- 전화: 02-234-1003\n",
            "- 운영시간: 09:00-18:00 KST\n",
            "\n",
            "### 참고한 FAQ\n",
            "- 연체가 있는데 분할 납부 가능한가요? (결제/계정)\n",
            "- 자동이체 계좌를 변경하고 싶습니다. (결제/계정)\n",
            "- 명의 변경(상속/양도)을 하고 싶습니다. (결제/계정)\n"
          ]
        }
      ],
      "source": [
        "run('연체가 됐어요. 어떡하죠?')"
      ]
    },
    {
      "cell_type": "code",
      "execution_count": 36,
      "id": "91bff9d8-0483-490b-af17-ac26be8c7854",
      "metadata": {
        "gather": {
          "logged": 1757856673535
        }
      },
      "outputs": [
        {
          "name": "stdout",
          "output_type": "stream",
          "text": [
            "1) 5G 속도 저하는 기지국 혼잡, 전파 간섭 등 환경 요인 때문일 수 있습니다.  \n",
            "2) 사용 위치와 시간 정보를 알려주시면 속도 개선 검토에 도움이 됩니다.  \n",
            "3) 필요 시 네트워크 상태 점검을 위해 장애 접수를 권장합니다.  \n",
            "\n",
            "To-do:  \n",
            "- 사용 위치 및 시간대 정보 수집  \n",
            "- 네트워크 상태 확인 및 장애 접수 안내\n",
            "\n",
            "---\n",
            "### 담당자 연락처\n",
            "- 분류: 성능\n",
            "- 팀: SRE/성능\n",
            "- 이메일: sre@acme.example\n",
            "- 전화: 02-834-0054\n",
            "- 운영시간: 09:00-18:00 KST\n",
            "\n",
            "### 참고한 FAQ\n",
            "- 5G가 자꾸 LTE로 전환돼요. (성능)\n",
            "- 지하철에서 다운로드 속도가 너무 느립니다. (성능)\n",
            "- 통화가 자주 끊기고 음질이 안 좋아요. (버그/장애)\n"
          ]
        }
      ],
      "source": [
        "run(\"5G인데 너무 느려요\")"
      ]
    },
    {
      "cell_type": "markdown",
      "id": "2ddeb9b4",
      "metadata": {},
      "source": [
        "## IT 용어 사전\n",
        "\n",
        "최신ICT시사용어2025.pdf를 업로드하세요"
      ]
    },
    {
      "cell_type": "markdown",
      "id": "f7bf08c2",
      "metadata": {},
      "source": [
        "### 1. vector storage와 retriever 만들기"
      ]
    },
    {
      "cell_type": "code",
      "execution_count": 37,
      "id": "f2f74cbf",
      "metadata": {
        "gather": {
          "logged": 1757856906985
        }
      },
      "outputs": [],
      "source": [
        "from langchain_core.prompts import ChatPromptTemplate\n",
        "from langchain_core.output_parsers import StrOutputParser\n",
        "\n",
        "from langchain_community.document_loaders import PyMuPDFLoader\n",
        "from langchain_text_splitters import RecursiveCharacterTextSplitter\n",
        "from langchain_community.vectorstores import FAISS\n",
        "\n",
        "def build_vectorDB(pdf_path):\n",
        "    \"\"\"PDF를 읽어 청크로 나누고, 임베딩하여 검색기를 만든다.\"\"\"\n",
        "    # 데이터 로드\n",
        "    loader = PyMuPDFLoader(pdf_path)\n",
        "\n",
        "    # 텍스트 분할\n",
        "    splitter = RecursiveCharacterTextSplitter(\n",
        "        chunk_size=800, chunk_overlap=120,\n",
        "        separators=[\"\\n\\n\", \"\\n\", \" \", \"\"]\n",
        "    )\n",
        "    \n",
        "    chunks = loader.load_and_split(text_splitter=splitter)\n",
        "\n",
        "    # 임베딩 & 인덱싱\n",
        "    emb = AzureOpenAIEmbeddings(\n",
        "        model=EMB_MODEL_NAME,                      \n",
        "        api_key=AZURE_OPENAI_EMB_API_KEY,\n",
        "        azure_endpoint=EMB_END_POINT,\n",
        "        api_version=\"2024-08-01-preview\"\n",
        "    )\n",
        "    vectorDB = FAISS.from_documents(chunks, emb)\n",
        "\n",
        "    # 검색기 반환\n",
        "    return vectorDB\n",
        "\n",
        "PDF_PATH = \"./pdf/최신ICT시사용어2025.pdf\"   # 해당 경로에 파일이 있어야 합니다.\n",
        "K = 6                                     # 검색 상위 청크 개수\n",
        "\n",
        "vectorDB = build_vectorDB(PDF_PATH)\n",
        "retriever = vectorDB.as_retriever(search_kwargs={\"k\": K})"
      ]
    },
    {
      "cell_type": "markdown",
      "id": "91b35b5a",
      "metadata": {},
      "source": [
        "### 2. RAG 랭체인 만들기"
      ]
    },
    {
      "cell_type": "code",
      "execution_count": 43,
      "id": "90d628b5",
      "metadata": {
        "gather": {
          "logged": 1757856930692
        }
      },
      "outputs": [],
      "source": [
        "SYSTEM = \"\"\"너는 '용어집 RAG 도우미'다.\n",
        "반드시 제공된 컨텍스트 안에서만 한국어로 답하라.\n",
        "컨텍스트에 없으면 '용어사전에서 찾을 수 없습니다.'이라고 답하라.\n",
        "\n",
        "출력 형식:\n",
        "<정의>: 2~4문장으로 간단하게 작성\n",
        "<참고>: 사용한 출처의 페이지번호 \n",
        "\"\"\"\n",
        "\n",
        "prompt = ChatPromptTemplate.from_messages([\n",
        "    (\"system\", SYSTEM),\n",
        "    (\"human\",\n",
        "     \"질문(용어): {question}\\n\\n\"\n",
        "     \"아래 컨텍스트만 근거로 답하라.\\n\"\n",
        "     \"=== 컨텍스트 시작 ===\\n{context}\\n=== 컨텍스트 끝 ===\\n\")\n",
        "])\n",
        "\n",
        "from langchain_openai import AzureChatOpenAI\n",
        "\n",
        "llm = AzureChatOpenAI(\n",
        "    api_key=AZURE_OPENAI_API_KEY,\n",
        "    azure_endpoint=END_POINT,  \n",
        "    azure_deployment=MODEL_NAME,          \n",
        "    api_version=\"2024-12-01-preview\",\n",
        "    temperature=0.2,\n",
        ")\n",
        "\n",
        "chain = prompt | llm | StrOutputParser()\n",
        "\n",
        "\n",
        "def format_with_citations(docs):\n",
        "    \"\"\"메타 데이터를 출력 형식에 맞게 문자열로 변환\"\"\"\n",
        "    lines = []\n",
        "    for _, d in enumerate(docs):\n",
        "        page = int(d.metadata.get(\"page\", 0)) + 1  # 페이지는 1부터 표기\n",
        "        lines.append(f\"<page> p.{page} </page> <contents>{d.page_content}</contents>\")  # 컨택스트를 구조화 하면 성능이 좋아질 수 있음\n",
        "    return \"\\n\\n\".join(lines)\n"
      ]
    },
    {
      "cell_type": "code",
      "execution_count": 46,
      "id": "9d57f04e",
      "metadata": {
        "gather": {
          "logged": 1757856946543
        }
      },
      "outputs": [
        {
          "name": "stdout",
          "output_type": "stream",
          "text": [
            "<정의>: MMORPG는 수백 또는 수천 명 이상의 플레이어가 인터넷으로 같은 게임과 서버에 접속해 각자 역할을 맡아 플레이하는 대규모 다중 접속 온라인 역할 게임이다. 1990년대 후반 인터넷 보급과 함께 발전했으며, 플레이어가 게임을 일시 중단해도 지속되는 세계가 특징이다. 강제된 게임 목표 없이 이용자가 원하는 만큼 자유롭게 플레이할 수 있고, 협력 플레이에서 성취감과 소속감을 느낄 수 있다.  \n",
            "<참고>: p.34-35"
          ]
        }
      ],
      "source": [
        "def run(query:str):\n",
        "    # 이번에는 리트리버로 context를 추출하는 부분을 체인의 내부가 아니라 체인 바깥에서 따로 실행함\n",
        "    docs = retriever.get_relevant_documents(query)\n",
        "    context = format_with_citations(docs)\n",
        "\n",
        "    answer = chain.stream({\"question\": query, \"context\": context})\n",
        "    for ans in answer:\n",
        "        print(ans, end = '', flush=True)\n",
        "\n",
        "    # print('\\n\\n')\n",
        "    # print(context) # 디버깅용\n",
        "\n",
        "run(\"MMORPG가 뭐야?\")"
      ]
    },
    {
      "cell_type": "code",
      "execution_count": 47,
      "id": "a189d44b-e22c-40cc-9bba-222e2b7b386e",
      "metadata": {
        "gather": {
          "logged": 1757856964385
        }
      },
      "outputs": [
        {
          "name": "stdout",
          "output_type": "stream",
          "text": [
            "<정의>: 블랙웰(Blackwell)은 엔비디아가 2024년에 공개한 신형 인공지능(AI) 반도체 아키텍처로, 호퍼(Hopper) 아키텍처의 후속 기술이다. 데이비드 헤롤드 블랙웰의 이름을 따서 명명되었으며, 2,080억 개의 트랜지스터가 집약되어 기존 H100 대비 2.5배 빠른 연산 속도를 자랑한다. B100 칩 두 개를 합친 B200을 연결해 단일 칩처럼 작동하며, 최신 NV링크 기술로 GPU 간 고속 통신을 지원한다. 구글, 메타, MS, 오라클, 테슬라, 오픈AI 등 글로벌 기업들이 블랙웰 플랫폼을 도입해 AI 및 자율주행 등 다양한 분야에 활용한다.\n",
            "\n",
            "<참고>: p.70, p.71, p.15"
          ]
        }
      ],
      "source": [
        "run('블랙웰')"
      ]
    },
    {
      "cell_type": "code",
      "execution_count": null,
      "id": "6f129b31-5701-4aea-898f-949ba2b6c3fa",
      "metadata": {},
      "outputs": [],
      "source": []
    }
  ],
  "metadata": {
    "kernel_info": {
      "name": "python38-azureml"
    },
    "kernelspec": {
      "display_name": "KT AI Academy",
      "language": "python",
      "name": "kt_ai_academy"
    },
    "language_info": {
      "codemirror_mode": {
        "name": "ipython",
        "version": 3
      },
      "file_extension": ".py",
      "mimetype": "text/x-python",
      "name": "python",
      "nbconvert_exporter": "python",
      "pygments_lexer": "ipython3",
      "version": "3.11.11"
    },
    "microsoft": {
      "host": {
        "AzureML": {
          "notebookHasBeenCompleted": true
        }
      }
    },
    "nteract": {
      "version": "nteract-front-end@1.0.0"
    }
  },
  "nbformat": 4,
  "nbformat_minor": 5
}
