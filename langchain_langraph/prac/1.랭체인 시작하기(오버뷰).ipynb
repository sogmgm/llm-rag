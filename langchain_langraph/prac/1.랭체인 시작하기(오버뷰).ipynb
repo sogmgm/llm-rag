{
  "cells": [
    {
      "cell_type": "markdown",
      "id": "6e5b3ddc-376e-44e2-bdbb-83139a788b21",
      "metadata": {
        "nteract": {
          "transient": {
            "deleting": false
          }
        }
      },
      "source": [
        "# 랭체인 오버뷰"
      ]
    },
    {
      "cell_type": "code",
      "execution_count": 1,
      "id": "04a273f4",
      "metadata": {
        "gather": {
          "logged": 1757849716437
        }
      },
      "outputs": [
        {
          "name": "stdout",
          "output_type": "stream",
          "text": [
            "43b13g4OZS\n",
            "gpt-4.1-mini\n",
            "랭스미스로 추적 중입니다 : \n"
          ]
        }
      ],
      "source": [
        "from dotenv import load_dotenv\n",
        "import os \n",
        "from langchain_openai import AzureChatOpenAI\n",
        "from langchain_core.output_parsers import StrOutputParser\n",
        "\n",
        "load_dotenv('env', override=True)\n",
        "AZURE_OPENAI_API_KEY = os.getenv('AZURE_OPENAI_API_KEY')\n",
        "END_POINT=os.getenv('END_POINT')\n",
        "MODEL_NAME=os.getenv('MODEL_NAME')\n",
        "print(AZURE_OPENAI_API_KEY[:10])\n",
        "print(MODEL_NAME)\n",
        "\n",
        "AZURE_OPENAI_EMB_API_KEY = os.getenv('AZURE_OPENAI_EMB_API_KEY')\n",
        "EMB_END_POINT=os.getenv('EMB_END_POINT')\n",
        "EMB_MODEL_NAME=os.getenv('EMB_MODEL_NAME')\n",
        "\n",
        "os.environ['LANGCHAIN_API_KEY'] = os.getenv('LANGSMITH_API_KEY')\n",
        "os.environ['LANGCHAIN_ENDPOINT'] = os.getenv('LANGCHAIN_ENDPOINT')\n",
        "os.environ['LANGCHAIN_TRACING_V2'] = 'true' #true, false\n",
        "os.environ['LANGCHAIN_PROJECT'] = 'LANG'\n",
        "\n",
        "if os.getenv('LANGCHAIN_TRACING_V2') == \"true\":\n",
        "    print('랭스미스로 추적 중입니다 :', os.getenv('LANGSMITH_API_KEY')[:10])"
      ]
    },
    {
      "cell_type": "markdown",
      "id": "b0b396ff",
      "metadata": {},
      "source": [
        "## Basic Example \n",
        "\n",
        "가장 기본적인 랭체인을 만들고 실행해 봅시다. 만약 에러가 난다면 '키'나 '패키지'를 확인해주세요."
      ]
    },
    {
      "cell_type": "code",
      "execution_count": null,
      "id": "428ab485",
      "metadata": {
        "gather": {
          "logged": 1757849722226
        }
      },
      "outputs": [
        {
          "name": "stderr",
          "output_type": "stream",
          "text": [
            "/Users/kb/Desktop/AI/kt_ai_academy_202510/.venv/lib/python3.11/site-packages/langsmith/client.py:290: LangSmithMissingAPIKeyWarning: API key must be provided when using hosted LangSmith API\n",
            "  warnings.warn(\n",
            "Failed to multipart ingest runs: langsmith.utils.LangSmithAuthError: Authentication failed for https://api.smith.langchain.com/runs/multipart. HTTPError('401 Client Error: Unauthorized for url: https://api.smith.langchain.com/runs/multipart', '{\"error\":\"Unauthorized\"}\\n')trace=e7127ec8-4887-495d-ad62-e1517aea989b,id=e7127ec8-4887-495d-ad62-e1517aea989b; trace=e7127ec8-4887-495d-ad62-e1517aea989b,id=1533ee3b-15c1-4d1e-a5ef-cfd2155e627b; trace=e7127ec8-4887-495d-ad62-e1517aea989b,id=d1a0335d-b5e6-4fea-9b1f-2eaaa616b4fc\n"
          ]
        },
        {
          "name": "stdout",
          "output_type": "stream",
          "text": [
            "LangChain은 여러 인공지능 모델과 도구를 연결해 복잡한 작업을 쉽게 처리할 수 있게 도와주는 소프트웨어입니다. 예를 들어, 텍스트 생성, 검색, 데이터 처리 등을 한 번에 할 수 있도록 연결해 줍니다. 초보자도 AI 기능을 쉽게 활용할 수 있도록 만들어졌습니다.\n"
          ]
        },
        {
          "name": "stderr",
          "output_type": "stream",
          "text": [
            "Failed to send compressed multipart ingest: langsmith.utils.LangSmithAuthError: Authentication failed for https://api.smith.langchain.com/runs/multipart. HTTPError('401 Client Error: Unauthorized for url: https://api.smith.langchain.com/runs/multipart', '{\"error\":\"Unauthorized\"}\\n')trace=e7127ec8-4887-495d-ad62-e1517aea989b,id=d1a0335d-b5e6-4fea-9b1f-2eaaa616b4fc; trace=e7127ec8-4887-495d-ad62-e1517aea989b,id=252d9048-9fc7-4193-9585-de9e51cc8250; trace=e7127ec8-4887-495d-ad62-e1517aea989b,id=252d9048-9fc7-4193-9585-de9e51cc8250; trace=e7127ec8-4887-495d-ad62-e1517aea989b,id=e7127ec8-4887-495d-ad62-e1517aea989b; trace=d1502fc8-c5d4-48a4-a73e-b4022d788ff7,id=d1502fc8-c5d4-48a4-a73e-b4022d788ff7\n",
            "Failed to send compressed multipart ingest: langsmith.utils.LangSmithAuthError: Authentication failed for https://api.smith.langchain.com/runs/multipart. HTTPError('401 Client Error: Unauthorized for url: https://api.smith.langchain.com/runs/multipart', '{\"error\":\"Unauthorized\"}\\n')trace=d1502fc8-c5d4-48a4-a73e-b4022d788ff7,id=d1502fc8-c5d4-48a4-a73e-b4022d788ff7; trace=dc62b625-39e0-4704-a363-d622b199bf99,id=dc62b625-39e0-4704-a363-d622b199bf99\n",
            "Failed to send compressed multipart ingest: langsmith.utils.LangSmithAuthError: Authentication failed for https://api.smith.langchain.com/runs/multipart. HTTPError('401 Client Error: Unauthorized for url: https://api.smith.langchain.com/runs/multipart', '{\"error\":\"Unauthorized\"}\\n')trace=dc62b625-39e0-4704-a363-d622b199bf99,id=dc62b625-39e0-4704-a363-d622b199bf99; trace=c2e80c43-3250-4863-ab40-402c1617b336,id=c2e80c43-3250-4863-ab40-402c1617b336\n",
            "Failed to send compressed multipart ingest: langsmith.utils.LangSmithAuthError: Authentication failed for https://api.smith.langchain.com/runs/multipart. HTTPError('401 Client Error: Unauthorized for url: https://api.smith.langchain.com/runs/multipart', '{\"error\":\"Unauthorized\"}\\n')trace=c2e80c43-3250-4863-ab40-402c1617b336,id=c2e80c43-3250-4863-ab40-402c1617b336; trace=1513711c-81ab-4555-99ed-fe4d52309e78,id=1513711c-81ab-4555-99ed-fe4d52309e78; trace=1513711c-81ab-4555-99ed-fe4d52309e78,id=1513711c-81ab-4555-99ed-fe4d52309e78; trace=4f27f1e3-6260-48b4-b280-18b53a582fa0,id=4f27f1e3-6260-48b4-b280-18b53a582fa0\n",
            "Failed to send compressed multipart ingest: langsmith.utils.LangSmithAuthError: Authentication failed for https://api.smith.langchain.com/runs/multipart. HTTPError('401 Client Error: Unauthorized for url: https://api.smith.langchain.com/runs/multipart', '{\"error\":\"Unauthorized\"}\\n')trace=4f27f1e3-6260-48b4-b280-18b53a582fa0,id=4f27f1e3-6260-48b4-b280-18b53a582fa0; trace=e5d1e80c-f013-4dc1-abda-f9639c12e699,id=e5d1e80c-f013-4dc1-abda-f9639c12e699\n",
            "Failed to send compressed multipart ingest: langsmith.utils.LangSmithAuthError: Authentication failed for https://api.smith.langchain.com/runs/multipart. HTTPError('401 Client Error: Unauthorized for url: https://api.smith.langchain.com/runs/multipart', '{\"error\":\"Unauthorized\"}\\n')trace=e5d1e80c-f013-4dc1-abda-f9639c12e699,id=e5d1e80c-f013-4dc1-abda-f9639c12e699; trace=503f217b-5dba-403a-90df-720838eedbe7,id=503f217b-5dba-403a-90df-720838eedbe7\n",
            "Failed to send compressed multipart ingest: langsmith.utils.LangSmithAuthError: Authentication failed for https://api.smith.langchain.com/runs/multipart. HTTPError('401 Client Error: Unauthorized for url: https://api.smith.langchain.com/runs/multipart', '{\"error\":\"Unauthorized\"}\\n')trace=503f217b-5dba-403a-90df-720838eedbe7,id=503f217b-5dba-403a-90df-720838eedbe7; trace=367d28db-0f9d-450c-aa30-67d4ec875f63,id=367d28db-0f9d-450c-aa30-67d4ec875f63; trace=367d28db-0f9d-450c-aa30-67d4ec875f63,id=367d28db-0f9d-450c-aa30-67d4ec875f63; trace=12838c2c-5950-4628-a3de-bafc1289d5db,id=12838c2c-5950-4628-a3de-bafc1289d5db\n",
            "Failed to send compressed multipart ingest: langsmith.utils.LangSmithAuthError: Authentication failed for https://api.smith.langchain.com/runs/multipart. HTTPError('401 Client Error: Unauthorized for url: https://api.smith.langchain.com/runs/multipart', '{\"error\":\"Unauthorized\"}\\n')trace=12838c2c-5950-4628-a3de-bafc1289d5db,id=12838c2c-5950-4628-a3de-bafc1289d5db; trace=2d830984-3368-4cd7-8b0d-1cc9d6072400,id=2d830984-3368-4cd7-8b0d-1cc9d6072400; trace=2d830984-3368-4cd7-8b0d-1cc9d6072400,id=2d830984-3368-4cd7-8b0d-1cc9d6072400; trace=a2ac6235-d3e5-425e-aaa6-d2264534bd3a,id=a2ac6235-d3e5-425e-aaa6-d2264534bd3a\n",
            "Failed to send compressed multipart ingest: langsmith.utils.LangSmithAuthError: Authentication failed for https://api.smith.langchain.com/runs/multipart. HTTPError('401 Client Error: Unauthorized for url: https://api.smith.langchain.com/runs/multipart', '{\"error\":\"Unauthorized\"}\\n')trace=a2ac6235-d3e5-425e-aaa6-d2264534bd3a,id=a2ac6235-d3e5-425e-aaa6-d2264534bd3a\n",
            "Failed to send compressed multipart ingest: langsmith.utils.LangSmithAuthError: Authentication failed for https://api.smith.langchain.com/runs/multipart. HTTPError('401 Client Error: Unauthorized for url: https://api.smith.langchain.com/runs/multipart', '{\"error\":\"Unauthorized\"}\\n')trace=b0fa7c33-fb31-4373-b673-1cb12a75d9b0,id=b0fa7c33-fb31-4373-b673-1cb12a75d9b0; trace=b0fa7c33-fb31-4373-b673-1cb12a75d9b0,id=b0fa7c33-fb31-4373-b673-1cb12a75d9b0; trace=060b2cf7-f63e-4a4c-a827-6ac326f8f2a3,id=060b2cf7-f63e-4a4c-a827-6ac326f8f2a3\n",
            "Failed to send compressed multipart ingest: langsmith.utils.LangSmithAuthError: Authentication failed for https://api.smith.langchain.com/runs/multipart. HTTPError('401 Client Error: Unauthorized for url: https://api.smith.langchain.com/runs/multipart', '{\"error\":\"Unauthorized\"}\\n')trace=060b2cf7-f63e-4a4c-a827-6ac326f8f2a3,id=060b2cf7-f63e-4a4c-a827-6ac326f8f2a3; trace=6c0b44e0-8053-4ebd-99b6-ed0984cce220,id=6c0b44e0-8053-4ebd-99b6-ed0984cce220; trace=6c0b44e0-8053-4ebd-99b6-ed0984cce220,id=6c0b44e0-8053-4ebd-99b6-ed0984cce220\n",
            "Failed to send compressed multipart ingest: langsmith.utils.LangSmithAuthError: Authentication failed for https://api.smith.langchain.com/runs/multipart. HTTPError('401 Client Error: Unauthorized for url: https://api.smith.langchain.com/runs/multipart', '{\"error\":\"Unauthorized\"}\\n')trace=b3499938-5a17-46d9-a3f0-32298adc4bbc,id=b3499938-5a17-46d9-a3f0-32298adc4bbc; trace=b3499938-5a17-46d9-a3f0-32298adc4bbc,id=dbe6f158-5363-48df-84af-daaaa000d613; trace=b3499938-5a17-46d9-a3f0-32298adc4bbc,id=99b3ba96-fcb1-4e31-9372-efdb3efb1046; trace=b3499938-5a17-46d9-a3f0-32298adc4bbc,id=99b3ba96-fcb1-4e31-9372-efdb3efb1046; trace=b3499938-5a17-46d9-a3f0-32298adc4bbc,id=dbe6f158-5363-48df-84af-daaaa000d613; trace=b3499938-5a17-46d9-a3f0-32298adc4bbc,id=e1e53bf6-b1d7-440a-8741-967c7f6e2d76; trace=b3499938-5a17-46d9-a3f0-32298adc4bbc,id=e1e53bf6-b1d7-440a-8741-967c7f6e2d76; trace=b3499938-5a17-46d9-a3f0-32298adc4bbc,id=3426ca97-7f0a-4000-9911-fad36266813d\n",
            "Failed to send compressed multipart ingest: langsmith.utils.LangSmithAuthError: Authentication failed for https://api.smith.langchain.com/runs/multipart. HTTPError('401 Client Error: Unauthorized for url: https://api.smith.langchain.com/runs/multipart', '{\"error\":\"Unauthorized\"}\\n')trace=b3499938-5a17-46d9-a3f0-32298adc4bbc,id=3426ca97-7f0a-4000-9911-fad36266813d; trace=b3499938-5a17-46d9-a3f0-32298adc4bbc,id=53745295-c046-414a-8d7f-d86b44e4fdc8; trace=b3499938-5a17-46d9-a3f0-32298adc4bbc,id=53745295-c046-414a-8d7f-d86b44e4fdc8; trace=b3499938-5a17-46d9-a3f0-32298adc4bbc,id=b3499938-5a17-46d9-a3f0-32298adc4bbc\n",
            "Failed to send compressed multipart ingest: langsmith.utils.LangSmithAuthError: Authentication failed for https://api.smith.langchain.com/runs/multipart. HTTPError('401 Client Error: Unauthorized for url: https://api.smith.langchain.com/runs/multipart', '{\"error\":\"Unauthorized\"}\\n')trace=fa2d4591-1d00-4479-ae27-fa6ef140b9e8,id=fa2d4591-1d00-4479-ae27-fa6ef140b9e8; trace=fa2d4591-1d00-4479-ae27-fa6ef140b9e8,id=08133ee0-2663-423b-9ea4-86552922f8ae; trace=fa2d4591-1d00-4479-ae27-fa6ef140b9e8,id=607c4200-2821-48c8-a39b-8f4cf40eb27c; trace=fa2d4591-1d00-4479-ae27-fa6ef140b9e8,id=607c4200-2821-48c8-a39b-8f4cf40eb27c; trace=fa2d4591-1d00-4479-ae27-fa6ef140b9e8,id=08133ee0-2663-423b-9ea4-86552922f8ae; trace=fa2d4591-1d00-4479-ae27-fa6ef140b9e8,id=871f6745-82c2-45e1-9df2-4f4d705b5a9d; trace=fa2d4591-1d00-4479-ae27-fa6ef140b9e8,id=871f6745-82c2-45e1-9df2-4f4d705b5a9d; trace=fa2d4591-1d00-4479-ae27-fa6ef140b9e8,id=ef0ce2c8-18eb-4343-8cf7-9a239bb35d25\n",
            "Failed to send compressed multipart ingest: langsmith.utils.LangSmithAuthError: Authentication failed for https://api.smith.langchain.com/runs/multipart. HTTPError('401 Client Error: Unauthorized for url: https://api.smith.langchain.com/runs/multipart', '{\"error\":\"Unauthorized\"}\\n')trace=fa2d4591-1d00-4479-ae27-fa6ef140b9e8,id=ef0ce2c8-18eb-4343-8cf7-9a239bb35d25; trace=fa2d4591-1d00-4479-ae27-fa6ef140b9e8,id=a90e42dc-2247-44fb-a1e0-20aa7171134b; trace=fa2d4591-1d00-4479-ae27-fa6ef140b9e8,id=a90e42dc-2247-44fb-a1e0-20aa7171134b; trace=fa2d4591-1d00-4479-ae27-fa6ef140b9e8,id=fa2d4591-1d00-4479-ae27-fa6ef140b9e8\n"
          ]
        }
      ],
      "source": [
        "from langchain_openai import AzureChatOpenAI\n",
        "from langchain_core.prompts import PromptTemplate\n",
        "from langchain_core.output_parsers import StrOutputParser\n",
        "\n",
        "llm = AzureChatOpenAI(\n",
        "    api_key=AZURE_OPENAI_API_KEY,\n",
        "    azure_endpoint=END_POINT,  \n",
        "    azure_deployment=MODEL_NAME,          \n",
        "    api_version=\"2024-12-01-preview\",\n",
        "    temperature=0.4,\n",
        ")\n",
        "\n",
        "prompt = PromptTemplate.from_template(\n",
        "    \"\"\"\n",
        "    너는 친절한 한국어 기술 용어 사전이야. 아래 주제를 초보자 눈높이로 3문장 이내로 설명해줘.\n",
        "    주제 : {topic}\n",
        "    설명 : \n",
        "    \"\"\"\n",
        ")\n",
        "\n",
        "str_parser = StrOutputParser()\n",
        "\n",
        "chain = prompt | llm | str_parser\n",
        "print(chain.invoke({\"topic\": \"LangChain\"}))"
      ]
    },
    {
      "cell_type": "markdown",
      "id": "e2ddb583",
      "metadata": {},
      "source": [
        "## 1. Model 만들기"
      ]
    },
    {
      "cell_type": "markdown",
      "id": "c6c2ce78",
      "metadata": {},
      "source": [
        "[모델별 api 비용 표](!https://platform.openai.com/docs/pricing) 확인하기\n",
        "\n",
        "우선 가장 기본적인 gpt의 특성을 가지고 있는 모델로 Language Model을 체감해봅시다. \n",
        "\n",
        "LM은 입력된 단어의 뒤에 나올 단어를 확률적으로 예측하는 모델입니다."
      ]
    },
    {
      "cell_type": "markdown",
      "id": "43c26508",
      "metadata": {},
      "source": [
        "### 모델 api 결과 출력\n",
        "\n",
        "- invoke : 모든 결과가 생성 된 뒤 한번에 출력\n",
        "- stream : 토큰 단위로 결과를 순차적으로 출력"
      ]
    },
    {
      "cell_type": "code",
      "execution_count": 3,
      "id": "c732574f",
      "metadata": {
        "gather": {
          "logged": 1757849887341
        }
      },
      "outputs": [
        {
          "name": "stdout",
          "output_type": "stream",
          "text": [
            "stream 결과 :  <generator object BaseChatModel.stream at 0x12c8e0c80>\n",
            "--------------------\n",
            "인공지능(Artificial Intelligence, AI)은 컴퓨터나 기계가 인간처럼 학습하고, 문제를 해결하며, 판단을 내릴 수 있도록 만드는 기술이나 시스템을 말해요. 쉽게 말해, 사람의 지능적인 행동을 모방하는 컴퓨터 프로그램이나 알고리즘이라고 할 수 있죠.\n",
            "\n",
            "예를 들어, 음성 인식, 이미지 인식, 자연어 처리, 자율 주행 자동차, 추천 시스템 등이 모두 인공지능 기술을 활용한 사례입니다. 인공지능은 데이터를 분석하고 패턴을 찾아내어 스스로 개선해 나가는 능력을 갖추고 있어서, 점점 더 똑똑해지고 있어요."
          ]
        }
      ],
      "source": [
        "answer = llm.stream(\"인공지능이 뭐야?\")\n",
        "print('stream 결과 : ',answer) #<-- stream은 generator 객체를 반환합니다. 따라서 바로 출력되지 않고, for문 등을 통해 순차적으로 출력해야 합니다. \n",
        "print('-'*20)\n",
        "\n",
        "for token in answer:\n",
        "    print(token.content, end='', flush=True) #flush=True 옵션을 주면 바로 출력됩니다"
      ]
    },
    {
      "cell_type": "markdown",
      "id": "627a756a",
      "metadata": {},
      "source": [
        "llm 모델의 출력 결과는 단순히 대답만 들어있는게 아니라 다양한 메타 데이터를 포함합니다."
      ]
    },
    {
      "cell_type": "code",
      "execution_count": 4,
      "id": "fe242add",
      "metadata": {
        "gather": {
          "logged": 1757850076992
        }
      },
      "outputs": [
        {
          "name": "stdout",
          "output_type": "stream",
          "text": [
            "content='인공지능(人工知能, Artificial Intelligence, AI)은 컴퓨터나 기계가 인간처럼 학습하고, 문제를 해결하며, 판단하고, 의사결정을 할 수 있도록 만드는 기술이나 시스템을 말해요. 쉽게 말해, 사람의 지능적인 행동을 모방하는 컴퓨터 프로그램이나 알고리즘이라고 할 수 있죠.\\n\\n예를 들어, 음성 인식, 이미지 인식, 자연어 처리, 자율주행차, 추천 시스템 등이 모두 인공지능 기술을 활용한 사례입니다. 인공지능은 크게 두 가지로 나눌 수 있는데요:\\n\\n1. **약한 인공지능(Weak AI)**: 특정 작업을 수행하도록 설계된 인공지능으로, 예를 들어 음성 비서(시리, 구글 어시스턴트)나 체스 프로그램 등이 있어요.\\n2. **강한 인공지능(Strong AI)**: 인간과 비슷한 수준의 지능과 자각을 가진 인공지능으로, 아직 완전히 실현되지는 않았어요.\\n\\n인공지능은 데이터를 기반으로 학습하는 머신러닝, 그리고 그 중에서도 신경망을 활용한 딥러닝 기술이 발전하면서 더욱 똑똑해지고 있어요.' additional_kwargs={'refusal': None} response_metadata={'token_usage': {'completion_tokens': 266, 'prompt_tokens': 14, 'total_tokens': 280, 'completion_tokens_details': {'accepted_prediction_tokens': 0, 'audio_tokens': 0, 'reasoning_tokens': 0, 'rejected_prediction_tokens': 0}, 'prompt_tokens_details': {'audio_tokens': 0, 'cached_tokens': 0}}, 'model_name': 'gpt-4.1-mini-2025-04-14', 'system_fingerprint': 'fp_3dcd5944f5', 'id': 'chatcmpl-CQo1h799QoKeZI4EOFVoM54FZX0bB', 'service_tier': None, 'prompt_filter_results': [{'prompt_index': 0, 'content_filter_results': {'hate': {'filtered': False, 'severity': 'safe'}, 'jailbreak': {'filtered': False, 'detected': False}, 'self_harm': {'filtered': False, 'severity': 'safe'}, 'sexual': {'filtered': False, 'severity': 'safe'}, 'violence': {'filtered': False, 'severity': 'safe'}}}], 'finish_reason': 'stop', 'logprobs': None, 'content_filter_results': {'hate': {'filtered': False, 'severity': 'safe'}, 'protected_material_code': {'filtered': False, 'detected': False}, 'protected_material_text': {'filtered': False, 'detected': False}, 'self_harm': {'filtered': False, 'severity': 'safe'}, 'sexual': {'filtered': False, 'severity': 'safe'}, 'violence': {'filtered': False, 'severity': 'safe'}}} id='run--dc62b625-39e0-4704-a363-d622b199bf99-0' usage_metadata={'input_tokens': 14, 'output_tokens': 266, 'total_tokens': 280, 'input_token_details': {'audio': 0, 'cache_read': 0}, 'output_token_details': {'audio': 0, 'reasoning': 0}}\n"
          ]
        }
      ],
      "source": [
        "answer = llm.invoke(\"인공지능이 뭐야?\") #<-- invoke는 한번에 출력\n",
        "print(answer) #결과에는 metadata가 포함되어 있음"
      ]
    },
    {
      "cell_type": "code",
      "execution_count": 5,
      "id": "9b1bc473",
      "metadata": {
        "gather": {
          "logged": 1757850094140
        }
      },
      "outputs": [
        {
          "name": "stdout",
          "output_type": "stream",
          "text": [
            "인공지능(人工知能, Artificial Intelligence, AI)은 컴퓨터나 기계가 인간처럼 학습하고, 문제를 해결하며, 판단하고, 의사결정을 할 수 있도록 만드는 기술이나 시스템을 말해요. 쉽게 말해, 사람의 지능적인 행동을 모방하는 컴퓨터 프로그램이나 알고리즘이라고 할 수 있죠.\n",
            "\n",
            "예를 들어, 음성 인식, 이미지 인식, 자연어 처리, 자율주행차, 추천 시스템 등이 모두 인공지능 기술을 활용한 사례입니다. 인공지능은 크게 두 가지로 나눌 수 있는데요:\n",
            "\n",
            "1. **약한 인공지능(Weak AI)**: 특정 작업을 수행하도록 설계된 인공지능으로, 예를 들어 음성 비서(시리, 구글 어시스턴트)나 체스 프로그램 등이 있어요.\n",
            "2. **강한 인공지능(Strong AI)**: 인간과 비슷한 수준의 지능과 자각을 가진 인공지능으로, 아직 완전히 실현되지는 않았어요.\n",
            "\n",
            "인공지능은 데이터를 기반으로 학습하는 머신러닝, 그리고 그 중에서도 신경망을 활용한 딥러닝 기술이 발전하면서 더욱 똑똑해지고 있어요.\n"
          ]
        }
      ],
      "source": [
        "print(answer.content) # llm의 답변은 content에 들어있습니다."
      ]
    },
    {
      "cell_type": "markdown",
      "id": "e8475d71",
      "metadata": {},
      "source": [
        "## 2.Output Parser(출력 파서)"
      ]
    },
    {
      "cell_type": "code",
      "execution_count": 6,
      "id": "a0315369",
      "metadata": {
        "gather": {
          "logged": 1757850185828
        }
      },
      "outputs": [
        {
          "name": "stdout",
          "output_type": "stream",
          "text": [
            "랭체인(LangChain)은 자연어 처리(NLP)와 인공지능(AI) 애플리케이션 개발을 쉽게 할 수 있도록 도와주는 오픈소스 프레임워크입니다. 특히 대형 언어 모델(LLM, Large Language Model)을 활용한 애플리케이션을 만들 때 유용합니다.\n",
            "\n",
            "랭체인의 주요 목적은 LLM을 단순히 텍스트 생성 도구로 사용하는 것을 넘어서, 데이터와 상호작용하거나 복잡한 작업을 자동화할 수 있도록 체인(chain) 형태로 여러 컴포넌트를 연결하는 것입니다. 예를 들어, 문서 검색, 질의응답, 데이터 요약, 대화형 에이전트 개발 등 다양한 기능을 쉽게 구현할 수 있게 도와줍니다.\n",
            "\n",
            "주요 특징은 다음과 같습니다:\n",
            "\n",
            "- **모듈화된 컴포넌트**: 프롬프트 템플릿, LLM 래퍼, 체인, 에이전트 등으로 구성되어 있어 필요에 따라 조합 가능\n",
            "- **다양한 데이터 소스 연동**: 데이터베이스, 문서, API 등과 연결해 LLM이 실시간 데이터에 접근 가능\n",
            "- **복잡한 워크플로우 구성**: 여러 단계를 거치는 작업을 체인으로 연결해 자동화\n",
            "- **오픈소스 및 커뮤니티 지원**: 활발한 개발과 다양한 예제 제공\n",
            "\n",
            "요약하자면, 랭체인은 LLM을 활용한 AI 애플리케이션을 더 쉽고 효율적으로 개발할 수 있게 도와주는 도구라고 할 수 있습니다.\n"
          ]
        }
      ],
      "source": [
        "answer = llm.invoke(\"랭체인이 뭐야?\")\n",
        "print(answer.content)"
      ]
    },
    {
      "cell_type": "markdown",
      "id": "8982c44d",
      "metadata": {},
      "source": [
        "모델의 출력 결과를 content를 통해 받을 수 있습니다. 지금은 출력이 평범한 문장이기 때문에 이것으로 충분합니다. 그러나 결과를 다양한 형태로 출력할 때 이를 목적에 맞게 바로 사용할 수 있게 후처리 코드를 제공합니다."
      ]
    },
    {
      "cell_type": "code",
      "execution_count": 7,
      "id": "7577e520",
      "metadata": {
        "gather": {
          "logged": 1757850189078
        }
      },
      "outputs": [
        {
          "name": "stdout",
          "output_type": "stream",
          "text": [
            "랭체인(LangChain)은 자연어 처리(NLP)와 인공지능(AI) 애플리케이션 개발을 쉽게 할 수 있도록 도와주는 오픈소스 프레임워크입니다. 특히 대형 언어 모델(LLM, Large Language Model)을 활용한 애플리케이션을 만들 때 유용합니다.\n",
            "\n",
            "랭체인의 주요 목적은 LLM을 단순히 텍스트 생성 도구로 사용하는 것을 넘어서, 데이터와 상호작용하거나 복잡한 작업을 자동화할 수 있도록 체인(chain) 형태로 여러 컴포넌트를 연결하는 것입니다. 예를 들어, 문서 검색, 질의응답, 데이터 요약, 대화형 에이전트 개발 등 다양한 기능을 쉽게 구현할 수 있게 도와줍니다.\n",
            "\n",
            "주요 특징은 다음과 같습니다:\n",
            "\n",
            "- **모듈화된 컴포넌트**: 프롬프트 템플릿, LLM 래퍼, 체인, 에이전트 등으로 구성되어 있어 필요에 따라 조합 가능\n",
            "- **다양한 데이터 소스 연동**: 데이터베이스, 문서, API 등과 연결해 LLM이 실시간 데이터에 접근 가능\n",
            "- **복잡한 워크플로우 구성**: 여러 단계를 거치는 작업을 체인으로 연결해 자동화\n",
            "- **오픈소스 및 커뮤니티 지원**: 활발한 개발과 다양한 예제 제공\n",
            "\n",
            "요약하자면, 랭체인은 LLM을 활용한 AI 애플리케이션을 더 쉽고 효율적으로 개발할 수 있게 도와주는 도구라고 할 수 있습니다.\n"
          ]
        }
      ],
      "source": [
        "from langchain_core.output_parsers import StrOutputParser\n",
        "\n",
        "output_parser = StrOutputParser()\n",
        "parsed_output = output_parser.invoke(answer.content)\n",
        "print(parsed_output)  # 출력된 문자열을 그대로 반환합니다."
      ]
    },
    {
      "cell_type": "markdown",
      "id": "28257f62",
      "metadata": {},
      "source": [
        "아래 예시를 보면 파서의 역할을 이해할 수 있습니다. \n",
        "\n",
        "llm 모델에 형태를 구체적으로 요청함으로써 출력의 모양을 가이드해 줄 수 있습니다."
      ]
    },
    {
      "cell_type": "code",
      "execution_count": 8,
      "id": "7588b58c",
      "metadata": {
        "gather": {
          "logged": 1757850193830
        }
      },
      "outputs": [
        {
          "name": "stdout",
          "output_type": "stream",
          "text": [
            "- Document Loaders  \n",
            "- Indexes  \n",
            "- Chains  \n",
            "- Agents  \n",
            "- Memory  \n",
            "- Callbacks  \n",
            "- Prompts  \n",
            "- Output Parsers  \n",
            "- Utilities\n"
          ]
        }
      ],
      "source": [
        "answer = llm.invoke(\"랭체인의 구성요소를 '-'를 사용해서 불릿 리스트로 출력해줘\")\n",
        "print(answer.content)"
      ]
    },
    {
      "cell_type": "markdown",
      "id": "ea61c2d8",
      "metadata": {},
      "source": [
        "이런 형태를 그대로 써도 되지만 만약 이걸 다른 형태로 바로 사용하기 위해 output parser를 사용해 후처리를 할 수 있습니다."
      ]
    },
    {
      "cell_type": "code",
      "execution_count": 9,
      "id": "499fd6d8",
      "metadata": {
        "gather": {
          "logged": 1757850233383
        }
      },
      "outputs": [
        {
          "name": "stdout",
          "output_type": "stream",
          "text": [
            "['Document Loaders  ', 'Indexes  ', 'Chains  ', 'Agents  ', 'Memory  ', 'Callbacks  ', 'Prompts  ', 'Output Parsers  ', 'Utilities']\n"
          ]
        }
      ],
      "source": [
        "from langchain_core.output_parsers.list import MarkdownListOutputParser\n",
        "\n",
        "# 어떤 단위로 아이템을 구분할지 패턴을 지정합니다.\n",
        "list_parser = MarkdownListOutputParser(pattern=r'^\\s*[-]\\s+(.+)$')\n",
        "\n",
        "items_list = list_parser.parse(answer.content)\n",
        "print(items_list)          "
      ]
    },
    {
      "cell_type": "markdown",
      "id": "f3198bb5",
      "metadata": {},
      "source": [
        "## 3.Prompt 프롬프트"
      ]
    },
    {
      "cell_type": "code",
      "execution_count": 10,
      "id": "6d64f1e0",
      "metadata": {
        "gather": {
          "logged": 1757850243138
        }
      },
      "outputs": [
        {
          "name": "stdout",
          "output_type": "stream",
          "text": [
            "- 센서(Sensors)  \n",
            "- 네트워크(Network)  \n",
            "- 데이터 처리(Data Processing)  \n",
            "- 사용자 인터페이스(User Interface)  \n",
            "- 클라우드 서비스(Cloud Services)  \n",
            "- 엣지 컴퓨팅(Edge Computing)  \n",
            "- 보안(Security)\n"
          ]
        }
      ],
      "source": [
        "answer = llm.invoke(\"IoT의 구성요소를 '-'를 사용해서 불릿 리스트로 출력해줘\")\n",
        "print(answer.content)"
      ]
    },
    {
      "cell_type": "code",
      "execution_count": 11,
      "id": "d3f9766a",
      "metadata": {
        "gather": {
          "logged": 1757850247550
        }
      },
      "outputs": [
        {
          "name": "stdout",
          "output_type": "stream",
          "text": [
            "- 엔진\n",
            "- 변속기\n",
            "- 섀시\n",
            "- 서스펜션\n",
            "- 브레이크\n",
            "- 타이어\n",
            "- 배터리\n",
            "- 연료 시스템\n",
            "- 배기 시스템\n",
            "- 조향 장치\n",
            "- 전기 시스템\n",
            "- 냉각 시스템\n",
            "- 조명 장치\n",
            "- 내부 인테리어\n",
            "- 안전 장치\n"
          ]
        }
      ],
      "source": [
        "answer = llm.invoke(\"자동차의 구성요소를 '-'를 사용해서 불릿 리스트로 출력해줘\")\n",
        "print(answer.content)"
      ]
    },
    {
      "cell_type": "markdown",
      "id": "fc9ed510",
      "metadata": {},
      "source": [
        "이렇게 구성요소를 리스트로 출력하는 모델을 만들었지만 매번 똑같은 입력을 넣어야합니다. 반복되는 작업을 template를 사용해 단순화 합시다."
      ]
    },
    {
      "cell_type": "code",
      "execution_count": 12,
      "id": "fe6cb83c",
      "metadata": {
        "gather": {
          "logged": 1757850253518
        }
      },
      "outputs": [
        {
          "name": "stdout",
          "output_type": "stream",
          "text": [
            "기본 프롬프트 : input_variables=['item'] input_types={} partial_variables={} template=\"{item}의 구성요소를 '-'를 사용해서 불릿 리스트로 출력해줘\"\n",
            "--------------------\n",
            "입력 : text=\"스마트폰의 구성요소를 '-'를 사용해서 불릿 리스트로 출력해줘\"\n",
            "- 디스플레이 (화면)\n",
            "- 배터리\n",
            "- 프로세서 (CPU)\n",
            "- 메모리 (RAM)\n",
            "- 저장장치 (내장 메모리)\n",
            "- 카메라 (전면 및 후면)\n",
            "- 스피커\n",
            "- 마이크\n",
            "- 센서 (가속도계, 자이로스코프, 근접 센서 등)\n",
            "- 무선 통신 모듈 (Wi-Fi, 블루투스, NFC)\n",
            "- SIM 카드 슬롯\n",
            "- 운영체제 (소프트웨어)\n",
            "\n",
            "\n",
            "입력 : text=\"자전거의 구성요소를 '-'를 사용해서 불릿 리스트로 출력해줘\"\n",
            "- 프레임\n",
            "- 핸들바\n",
            "- 안장\n",
            "- 페달\n",
            "- 체인\n",
            "- 기어\n",
            "- 브레이크\n",
            "- 바퀴\n",
            "- 타이어\n",
            "- 림\n",
            "- 스포크\n",
            "- 허브\n",
            "- 서스펜션 (일부 자전거에 해당)\n",
            "- 크랭크\n",
            "- 체인링\n"
          ]
        }
      ],
      "source": [
        "from langchain_core.prompts import PromptTemplate\n",
        "\n",
        "prompt = PromptTemplate.from_template(\"{item}의 구성요소를 '-'를 사용해서 불릿 리스트로 출력해줘\")\n",
        "print(f'기본 프롬프트 : {prompt}')\n",
        "print('-'*20)\n",
        "\n",
        "prompt_input = prompt.invoke({\"item\": \"스마트폰\"})\n",
        "print(f'입력 : {prompt_input}')\n",
        "answer = llm.invoke(prompt_input)\n",
        "print(answer.content)\n",
        "\n",
        "prompt_input = prompt.invoke({\"item\": \"자전거\"})\n",
        "print(f'\\n\\n입력 : {prompt_input}')\n",
        "answer = llm.invoke(prompt_input)\n",
        "print(answer.content)"
      ]
    },
    {
      "cell_type": "markdown",
      "id": "1f874e21",
      "metadata": {},
      "source": [
        "## 4.LCEL\n",
        "\n",
        "이렇게 만든 세가지 구성요소 __'프롬프트'__, __'모델'__, __'출력파서'__ 세가지 Runnable 컴포넌트를 합쳐서 하나의 runnable 객체를 만들 수 있습니다.\n",
        "\n",
        "아래와 같이 함수형태로 쓸 수 있지만"
      ]
    },
    {
      "cell_type": "code",
      "execution_count": 42,
      "id": "933ad1dc",
      "metadata": {
        "gather": {
          "logged": 1757850259927
        }
      },
      "outputs": [
        {
          "name": "stdout",
          "output_type": "stream",
          "text": [
            "['프레임', '핸들바', '안장', '페달', '체인', '기어', '브레이크', '바퀴', '타이어', '림', '스포크', '허브', '서스펜션 (일부 자전거에 해당)', '크랭크', '시트포스트']\n"
          ]
        }
      ],
      "source": [
        "def get_item_components(item):\n",
        "    prompt_input = prompt.invoke({\"item\": item}) # 이미 작성된 프롬프트의 item위치에 item을 넣어줍니다.\n",
        "    answer = llm.invoke(prompt_input)       # LLM에 프롬프트를 입력하여 응답을 받습니다.\n",
        "    return list_parser.invoke(answer.content)# 받은 응답을 출력 파서를 사용해 파싱합니다.\n",
        "\n",
        "print(get_item_components('자전거'))"
      ]
    },
    {
      "cell_type": "markdown",
      "id": "fa4ca396",
      "metadata": {},
      "source": [
        "위의 결과를 굳이 한줄로 쓴다면 이렇게 쓸 수 있습니다."
      ]
    },
    {
      "cell_type": "code",
      "execution_count": 13,
      "id": "dd04f051",
      "metadata": {},
      "outputs": [
        {
          "name": "stdout",
          "output_type": "stream",
          "text": [
            "['프레임', '핸들바', '안장', '페달', '체인', '크랭크', '변속기', '브레이크', '바퀴', '타이어', '림', '스포크', '허브', '서스펜션 (일부 자전거에 해당)']\n"
          ]
        }
      ],
      "source": [
        "output = list_parser.invoke(llm.invoke(prompt.invoke({\"item\": \"자전거\"})))\n",
        "print(output)"
      ]
    },
    {
      "cell_type": "markdown",
      "id": "6cf360c4",
      "metadata": {},
      "source": [
        "랭체인에서는 LCEL(LangChain Expression Language)이라는 방법을 사용해 쉽고 깔끔하게 체인을 묶을 수 있습니다."
      ]
    },
    {
      "cell_type": "code",
      "execution_count": 48,
      "id": "4d09bf3c",
      "metadata": {
        "gather": {
          "logged": 1757850263087
        }
      },
      "outputs": [
        {
          "data": {
            "text/plain": [
              "['프레임  ',\n",
              " '핸들바  ',\n",
              " '브레이크  ',\n",
              " '바퀴  ',\n",
              " '타이어  ',\n",
              " '페달  ',\n",
              " '체인  ',\n",
              " '기어  ',\n",
              " '안장  ',\n",
              " '포크  ',\n",
              " '크랭크  ',\n",
              " '허브  ',\n",
              " '스포크  ',\n",
              " '시트포스트  ',\n",
              " '변속기']"
            ]
          },
          "execution_count": 48,
          "metadata": {},
          "output_type": "execute_result"
        }
      ],
      "source": [
        "chain = prompt | llm | list_parser      # 세가지 Runnable 컴포넌트를 | 연산자로 연결합니다. 앞의 출력이 뒤 컴포넌트의 입력이 됩니다.\n",
        "chain.invoke({\"item\": \"자전거\"})        # 입력은 딕셔너리 형태로 넣어줍니다."
      ]
    },
    {
      "cell_type": "markdown",
      "id": "1768e1ab",
      "metadata": {},
      "source": [
        "Passthrough라는걸 사용하면 invoke에 넣어주는 인자도 깔끔하게 할 수 있습니다."
      ]
    },
    {
      "cell_type": "code",
      "execution_count": 15,
      "id": "22c6e4e1",
      "metadata": {
        "gather": {
          "logged": 1757850267261
        }
      },
      "outputs": [
        {
          "data": {
            "text/plain": [
              "['프레임  ',\n",
              " '바퀴  ',\n",
              " '핸들바  ',\n",
              " '페달  ',\n",
              " '체인  ',\n",
              " '변속기  ',\n",
              " '브레이크  ',\n",
              " '안장  ',\n",
              " '포크  ',\n",
              " '크랭크셋']"
            ]
          },
          "execution_count": 15,
          "metadata": {},
          "output_type": "execute_result"
        }
      ],
      "source": [
        "from langchain_core.runnables import RunnablePassthrough\n",
        "chain = {\"item\": RunnablePassthrough()} | prompt | llm | list_parser #Dict도 하나의 runnable로 취급해 체인의 앞에 넣어줄 수 있습니다. Passthrough는 입력을 그대로 출력으로 넘겨주는 역할을 합니다.  \n",
        "chain.invoke(\"자전거\")"
      ]
    },
    {
      "cell_type": "markdown",
      "id": "cf12ac85",
      "metadata": {},
      "source": [
        "앞에서 나온 코드를 모아서 한번에 정리하면 다음과 같습니다."
      ]
    },
    {
      "cell_type": "code",
      "execution_count": 16,
      "id": "d274eb17",
      "metadata": {
        "gather": {
          "logged": 1757850310838
        }
      },
      "outputs": [
        {
          "name": "stdout",
          "output_type": "stream",
          "text": [
            "['LLM (대형 언어 모델)  ', '프롬프트 템플릿  ', '체인 (Chain)  ', '메모리 (Memory)  ', '인덱스 (Index)  ', '문서 검색기 (Retriever)  ', '도구 (Tools)  ', '에이전트 (Agent)  ', '인터페이스 (Interface)  ', '콜백 핸들러 (Callback Handler)']\n"
          ]
        }
      ],
      "source": [
        "from langchain_openai import AzureChatOpenAI\n",
        "from langchain_core.prompts import PromptTemplate\n",
        "from langchain_core.output_parsers import StrOutputParser\n",
        "\n",
        "llm = AzureChatOpenAI(\n",
        "    api_key=AZURE_OPENAI_API_KEY,\n",
        "    azure_endpoint=END_POINT,  \n",
        "    azure_deployment=MODEL_NAME,          \n",
        "    api_version=\"2024-12-01-preview\",\n",
        "    temperature=0.2,\n",
        ")\n",
        "\n",
        "prompt = PromptTemplate.from_template(\"{item}의 구성요소를 '-'를 사용해서 불릿 리스트 형태로 10개 이내로 출력해줘.\")\n",
        "\n",
        "str_parser = StrOutputParser()\n",
        "list_parser = MarkdownListOutputParser(pattern=r'^\\s*[-]\\s(.+)$')\n",
        "\n",
        "chain = {'item' : RunnablePassthrough()} | prompt | llm | list_parser\n",
        "    \n",
        "output = chain.invoke(\"랭체인 챗봇\")\n",
        "print(output)"
      ]
    },
    {
      "cell_type": "code",
      "execution_count": null,
      "id": "3a9925b4",
      "metadata": {},
      "outputs": [],
      "source": []
    }
  ],
  "metadata": {
    "kernel_info": {
      "name": "python38-azureml"
    },
    "kernelspec": {
      "display_name": "kt-ai-academy-202510",
      "language": "python",
      "name": "python3"
    },
    "language_info": {
      "codemirror_mode": {
        "name": "ipython",
        "version": 3
      },
      "file_extension": ".py",
      "mimetype": "text/x-python",
      "name": "python",
      "nbconvert_exporter": "python",
      "pygments_lexer": "ipython3",
      "version": "3.11.11"
    },
    "microsoft": {
      "host": {
        "AzureML": {
          "notebookHasBeenCompleted": true
        }
      }
    },
    "nteract": {
      "version": "nteract-front-end@1.0.0"
    }
  },
  "nbformat": 4,
  "nbformat_minor": 5
}
