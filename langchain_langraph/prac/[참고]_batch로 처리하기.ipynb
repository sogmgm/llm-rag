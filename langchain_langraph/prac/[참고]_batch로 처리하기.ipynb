{
 "cells": [
  {
   "cell_type": "code",
   "execution_count": 1,
   "id": "9a61f475",
   "metadata": {},
   "outputs": [
    {
     "name": "stdout",
     "output_type": "stream",
     "text": [
      "43b13g4OZS\n",
      "gpt-4.1-mini\n",
      "랭스미스로 추적 중입니다 : lsv2_pt_fd\n"
     ]
    }
   ],
   "source": [
    "from dotenv import load_dotenv\n",
    "import os \n",
    "from langchain_openai import AzureChatOpenAI\n",
    "from langchain_core.output_parsers import StrOutputParser\n",
    "\n",
    "load_dotenv('env', override=True)\n",
    "AZURE_OPENAI_API_KEY = os.getenv('AZURE_OPENAI_API_KEY')\n",
    "END_POINT=os.getenv('END_POINT')\n",
    "MODEL_NAME=os.getenv('MODEL_NAME')\n",
    "print(AZURE_OPENAI_API_KEY[:10])\n",
    "print(MODEL_NAME)\n",
    "\n",
    "AZURE_OPENAI_EMB_API_KEY = os.getenv('AZURE_OPENAI_EMB_API_KEY')\n",
    "EMB_END_POINT=os.getenv('EMB_END_POINT')\n",
    "EMB_MODEL_NAME=os.getenv('EMB_MODEL_NAME')\n",
    "\n",
    "os.environ['LANGCHAIN_API_KEY'] = os.getenv('LANGSMITH_API_KEY')\n",
    "os.environ['LANGCHAIN_ENDPOINT'] = os.getenv('LANGCHAIN_ENDPOINT')\n",
    "os.environ['LANGCHAIN_TRACING_V2'] = 'true' #true, false\n",
    "os.environ['LANGCHAIN_PROJECT'] = 'LANG'\n",
    "\n",
    "if os.getenv('LANGCHAIN_TRACING_V2') == \"true\":\n",
    "    print('랭스미스로 추적 중입니다 :', os.getenv('LANGSMITH_API_KEY')[:10])"
   ]
  },
  {
   "cell_type": "markdown",
   "id": "cfeb2d12",
   "metadata": {},
   "source": [
    "일반적으로 llm.invoke()를 호출하면 한 번에 하나의 입력만 처리함.   \n",
    "처리해야 하는 요청이 많으면 통신을 계속 호출해야 하므로 비효율적이다.    \n",
    "하지만 llm.batch()를 사용하면 여러 개의 입력을 한꺼번에 비동기적으로 전송하여 api 호출 횟수를 줄여 응답 속도를 개선할 수 있음.   "
   ]
  },
  {
   "cell_type": "code",
   "execution_count": 3,
   "id": "209bc823",
   "metadata": {},
   "outputs": [],
   "source": [
    "llm = AzureChatOpenAI(\n",
    "    api_key=AZURE_OPENAI_API_KEY,\n",
    "    azure_endpoint=END_POINT,  \n",
    "    azure_deployment=MODEL_NAME,          \n",
    "    api_version=\"2024-12-01-preview\",\n",
    "    temperature=0.2,\n",
    ")"
   ]
  },
  {
   "cell_type": "code",
   "execution_count": 2,
   "id": "0b9656b0",
   "metadata": {},
   "outputs": [],
   "source": [
    "user_inputs = [\n",
    "    \"안녕! 오늘 기분 어때?\",\n",
    "    \"하늘은 왜 파란색일까?\",\n",
    "    \"고양이는 왜 낮잠을 많이 자?\",\n",
    "    \"AI가 인간을 대체할까?\",\n",
    "    \"서울의 날씨 어때?\",\n",
    "]"
   ]
  },
  {
   "cell_type": "markdown",
   "id": "f3f5feed",
   "metadata": {},
   "source": [
    "### 반복적으로 단일 작업을 요청"
   ]
  },
  {
   "cell_type": "code",
   "execution_count": 5,
   "id": "7d2d1d69",
   "metadata": {},
   "outputs": [
    {
     "name": "stdout",
     "output_type": "stream",
     "text": [
      "[입력 1] 안녕! 오늘 기분 어때?\n",
      "[응답 1] 안녕! 나는 항상 기분이 좋아. 너는 오늘 기분이 어때?\n",
      "\n",
      "[입력 2] 하늘은 왜 파란색일까?\n",
      "[응답 2] 하늘이 파란색으로 보이는 이유는 대기 중의 빛 산란 현상 때문입니다. 태양빛은 여러 가지 색(파장)의 빛으로 이루어져 있는데, 이 빛이 지구 대기의 분자나 작은 입자에 부딪히면 산란됩니다. 이때 파장이 짧은 파란색 빛이 다른 색에 비해 더 많이 산란되기 때문에 하늘이 파랗게 보이는 것입니다.\n",
      "\n",
      "좀 더 자세히 설명하자면, 태양빛은 여러 색의 빛이 섞여 있는데, 각각의 빛은 파장이 다릅니다. 파장이 짧은 빛(파란색과 보라색)은 대기 중의 분자에 의해 더 많이 산란되는 경향이 있습니다. 이를 레일리 산란(Rayleigh scattering)이라고 부릅니다. 인간의 눈은 파란색에 더 민감하고, 보라색 빛은 태양빛에 상대적으로 적게 포함되어 있기 때문에 하늘은 주로 파란색으로 인식됩니다.\n",
      "\n",
      "따라서, 하늘이 파란 이유는 태양빛 중 파란색 빛이 대기 중에서 많이 산란되어 우리 눈에 많이 들어오기 때문입니다.\n",
      "\n",
      "[입력 3] 고양이는 왜 낮잠을 많이 자?\n",
      "[응답 3] 고양이가 낮잠을 많이 자는 이유는 여러 가지가 있습니다:\n",
      "\n",
      "1. **에너지 보존**: 고양이는 본래 사냥을 위해 많은 에너지를 소비하는 동물입니다. 야생에서는 사냥할 때 순간적으로 많은 힘을 쓰기 때문에, 평소에는 에너지를 아끼기 위해 많이 자는 습성이 있습니다.\n",
      "\n",
      "2. **야행성 습성**: 고양이는 원래 야행성 동물로, 밤에 활동하고 낮에는 휴식을 취하는 경향이 있습니다. 그래서 낮에 많이 자고 밤에 깨어 있는 경우가 많습니다.\n",
      "\n",
      "3. **성장과 회복**: 잠은 몸의 성장과 회복에 중요한 역할을 합니다. 고양이는 잠을 자면서 몸을 회복하고 면역력을 유지합니다.\n",
      "\n",
      "4. **환경 적응**: 집에서 키우는 고양이는 사냥할 필요가 없지만, 본능적으로 많은 시간을 자면서 휴식을 취합니다. 또한, 안전하고 편안한 환경에서는 더 많이 자는 경향이 있습니다.\n",
      "\n",
      "요약하자면, 고양이가 낮잠을 많이 자는 것은 본능적인 에너지 절약과 야행성 습성, 그리고 건강 유지 때문입니다.\n",
      "\n",
      "[입력 4] AI가 인간을 대체할까?\n",
      "[응답 4] AI가 인간을 완전히 대체할 가능성에 대해서는 여러 의견이 있습니다. 현재 AI는 특정 작업, 예를 들어 데이터 분석, 이미지 인식, 자연어 처리 등에서 뛰어난 성과를 내고 있지만, 인간의 창의성, 감정, 윤리적 판단, 복잡한 사회적 상호작용 등은 아직 완전히 모방하거나 대체하기 어렵습니다.\n",
      "\n",
      "앞으로 AI가 많은 직업과 역할을 보조하거나 자동화할 수는 있지만, 인간 고유의 능력과 경험을 완전히 대체하기보다는 상호 보완적인 관계를 형성할 가능성이 큽니다. 또한, AI 발전에 따른 사회적, 윤리적 문제들도 함께 고려되어야 하므로, 단순히 ‘대체’라는 관점보다는 ‘협력’과 ‘공존’의 관점에서 접근하는 것이 중요합니다.\n",
      "\n",
      "[입력 5] 서울의 날씨 어때?\n",
      "[응답 5] 죄송하지만 실시간 날씨 정보를 제공할 수는 없습니다. 서울의 현재 날씨를 확인하시려면 네이버 날씨, 다음 날씨, 기상청 웹사이트나 날씨 앱을 이용해 보세요. 도움이 필요하시면 언제든 말씀해 주세요!\n",
      "\n",
      "single 처리 시간: 13.074868440628052초\n"
     ]
    }
   ],
   "source": [
    "# single 처리 및 시간 측정\n",
    "import time\n",
    "start_time = time.time()\n",
    "for i, single_input in enumerate(user_inputs):\n",
    "    print(f\"[입력 {i+1}] {single_input}\")\n",
    "    print(f\"[응답 {i+1}] {llm.invoke(single_input).content}\\n\")\n",
    "end_time = time.time()\n",
    "print(f\"single 처리 시간: {end_time - start_time}초\")"
   ]
  },
  {
   "cell_type": "markdown",
   "id": "04f2954c",
   "metadata": {},
   "source": [
    "### 배치로 한번에 요청"
   ]
  },
  {
   "cell_type": "code",
   "execution_count": 6,
   "id": "c2b4f02e",
   "metadata": {},
   "outputs": [
    {
     "name": "stdout",
     "output_type": "stream",
     "text": [
      "[[{'role': 'user', 'content': '안녕! 오늘 기분 어때?'}], [{'role': 'user', 'content': '하늘은 왜 파란색일까?'}], [{'role': 'user', 'content': '고양이는 왜 낮잠을 많이 자?'}], [{'role': 'user', 'content': 'AI가 인간을 대체할까?'}], [{'role': 'user', 'content': '서울의 날씨 어때?'}]]\n",
      "[입력 1] 안녕! 오늘 기분 어때?\n",
      "[응답 1] 안녕! 나는 항상 기분이 좋아. 너는 오늘 기분이 어때?\n",
      "\n",
      "[입력 2] 하늘은 왜 파란색일까?\n",
      "[응답 2] 하늘이 파란색으로 보이는 이유는 대기 중의 빛 산란 현상 때문입니다. 태양빛은 여러 가지 색(파장)을 가진 빛의 혼합인데, 이 빛이 지구 대기의 분자와 작은 입자들에 부딪히면서 산란됩니다.\n",
      "\n",
      "특히, 파란색 빛은 파장이 짧아서 다른 색에 비해 더 많이 산란되는 성질이 있습니다. 이를 레일리 산란(Rayleigh scattering)이라고 부릅니다. 그래서 태양빛이 대기를 통과할 때 파란색 빛이 사방으로 많이 퍼져 나가고, 우리가 하늘을 볼 때 그 산란된 파란색 빛이 많이 들어와서 하늘이 파랗게 보이는 것입니다.\n",
      "\n",
      "반면, 일출이나 일몰 때는 태양빛이 대기를 더 길게 통과하면서 파란색 빛은 거의 산란되어 사라지고, 상대적으로 파장이 긴 붉은색이나 주황색 빛이 많이 남아 하늘이 붉게 보이게 됩니다.\n",
      "\n",
      "[입력 3] 고양이는 왜 낮잠을 많이 자?\n",
      "[응답 3] 고양이가 낮잠을 많이 자는 이유는 여러 가지가 있습니다:\n",
      "\n",
      "1. **에너지 보존**: 고양이는 본래 사냥을 위해 에너지를 아껴야 하는 동물입니다. 야생에서는 사냥할 때 많은 에너지를 쓰기 때문에, 사냥하지 않는 시간에는 에너지를 절약하기 위해 많이 잡니다.\n",
      "\n",
      "2. **야행성 습성**: 고양이는 주로 밤이나 새벽에 활동하는 야행성 동물입니다. 낮에는 활동량이 적고, 밤에 활발히 움직이기 때문에 낮잠을 많이 자는 경향이 있습니다.\n",
      "\n",
      "3. **성장과 회복**: 잠은 고양이의 성장과 건강 유지에 중요합니다. 특히 어린 고양이나 노령 고양이는 더 많은 휴식이 필요합니다.\n",
      "\n",
      "4. **안전함**: 집에서 키우는 고양이는 안전한 환경에서 편안하게 느끼기 때문에 낮에도 편하게 잠을 잘 수 있습니다.\n",
      "\n",
      "요약하자면, 고양이는 본능적으로 에너지를 절약하고 야행성 생활 패턴 때문에 낮잠을 많이 자는 것입니다.\n",
      "\n",
      "[입력 4] AI가 인간을 대체할까?\n",
      "[응답 4] AI가 인간을 완전히 대체할 가능성에 대해서는 여러 관점이 있습니다. 현재로서는 AI가 특정 작업이나 역할에서 인간을 보조하거나 대체하는 경우가 늘어나고 있지만, 인간 고유의 창의성, 감성, 복잡한 사회적 상호작용 능력 등은 아직 AI가 완전히 모방하거나 대체하기 어렵습니다.\n",
      "\n",
      "예를 들어, 반복적이고 규칙 기반의 작업에서는 AI가 효율적으로 인간을 대체할 수 있지만, 의사결정, 윤리적 판단, 예술적 창작, 깊은 공감 능력 등에서는 인간의 역할이 여전히 중요합니다. 또한, AI 발전에 따른 사회적, 윤리적 문제들도 함께 고려되어야 합니다.\n",
      "\n",
      "따라서 AI는 인간의 역할을 보완하고 변화시키는 도구로서 발전할 가능성이 크며, 인간과 AI가 협력하는 형태가 앞으로 더욱 중요해질 것으로 보입니다.\n",
      "\n",
      "[입력 5] 서울의 날씨 어때?\n",
      "[응답 5] 현재 실시간 날씨 정보를 제공해드릴 수는 없지만, 서울의 날씨를 확인하시려면 네이버 날씨, 다음 날씨, 기상청 홈페이지 또는 스마트폰의 날씨 앱을 이용하시는 것을 추천드립니다. 도움이 필요하시면 언제든 말씀해 주세요!\n",
      "\n",
      "batch 처리 시간: 2.722971200942993초\n"
     ]
    }
   ],
   "source": [
    "messages_batch = [[{\"role\": \"user\", \"content\": text}] for text in user_inputs]\n",
    "print(messages_batch)\n",
    "\n",
    "start_time = time.time()\n",
    "responses = llm.batch(messages_batch)\n",
    "end_time = time.time()\n",
    "\n",
    "# 결과 출력\n",
    "for i, r in enumerate(responses):\n",
    "    print(f\"[입력 {i+1}] {user_inputs[i]}\")\n",
    "    print(f\"[응답 {i+1}] {r.content}\\n\")\n",
    "    \n",
    "print(f\"batch 처리 시간: {end_time - start_time}초\")"
   ]
  },
  {
   "cell_type": "markdown",
   "id": "97707daf",
   "metadata": {},
   "source": [
    "## RAG를 배치로 요청하기"
   ]
  },
  {
   "cell_type": "code",
   "execution_count": null,
   "id": "b5488397",
   "metadata": {},
   "outputs": [],
   "source": [
    "from langchain_community.document_loaders import PyMuPDFLoader\n",
    "\n",
    "loader = PyMuPDFLoader(\"pdf/인터넷서비스_이용약관.pdf\", mode=\"page\") \n",
    "docs = loader.load()\n",
    "\n",
    "from langchain_text_splitters import RecursiveCharacterTextSplitter\n",
    "\n",
    "splitter = RecursiveCharacterTextSplitter(\n",
    "    chunk_size=300,\n",
    "    chunk_overlap=50,\n",
    "    separators=[\"\\n\\n\", \"\\n\", \"  \", \" \"]\n",
    ")\n",
    "splits = splitter.split_documents(docs)\n",
    "    \n",
    "from langchain_openai import AzureOpenAIEmbeddings\n",
    "from langchain_community.vectorstores import Chroma, FAISS\n",
    "\n",
    "AZURE_OPENAI_EMB_API_KEY = os.getenv('AZURE_OPENAI_EMB_API_KEY')\n",
    "EMB_END_POINT=os.getenv('EMB_END_POINT')\n",
    "EMB_MODEL_NAME=os.getenv('EMB_MODEL_NAME')\n",
    "\n",
    "emb = AzureOpenAIEmbeddings(\n",
    "    model=EMB_MODEL_NAME,                      \n",
    "    api_key=AZURE_OPENAI_EMB_API_KEY,\n",
    "    azure_endpoint=EMB_END_POINT,\n",
    "    api_version=\"2024-08-01-preview\"\n",
    ")\n",
    "vectordb = FAISS.from_documents(splits,emb)\n",
    "retriever = vectordb.as_retriever()\n",
    "\n",
    "from langchain_core.prompts import ChatPromptTemplate\n",
    "\n",
    "prompt = ChatPromptTemplate.from_messages([\n",
    "    (\"system\",\n",
    "     \"너는 문서 기반 QA 어시스턴트다. 아래 규칙을 지켜라.\\n\"\n",
    "     \"1) 제공된 컨텍스트(표/본문)에서만 근거를 찾아 답한다.\\n\"\n",
    "     \"2) 모르면 모른다고 말한다. 추측 금지.\\n\"\n",
    "     \"3) 숫자/조건/예외는 정확히 인용하고, 출처 문장 일부를 함께 제시한다.\\n\"\n",
    "     \"4) 표 내용이라면 행/열 헤더를 함께 언급해 맥락을 명확히 한다.\\n\"\n",
    "     \"5) 출처 페이지를 함께 제시한다.\\n\"),\n",
    "    (\"human\", \"질문: {question}\\n\\n컨텍스트:\\n{context}\\n\\n한국어로 간결하게 답해.\")\n",
    "])\n",
    "\n",
    "from langchain_core.output_parsers import StrOutputParser\n",
    "from langchain_core.runnables import RunnablePassthrough\n",
    "\n",
    "parser = StrOutputParser()\n",
    "\n",
    "def format_docs(docs):\n",
    "    return \"\\n\\n---\\n\\n\".join(d.page_content for d in docs)\n",
    "\n",
    "rag_chain = (\n",
    "    {\"question\": RunnablePassthrough(),   \n",
    "     \"context\": retriever | format_docs}\n",
    "    | prompt\n",
    "    | llm\n",
    "    | parser\n",
    ")"
   ]
  },
  {
   "cell_type": "code",
   "execution_count": 14,
   "id": "195c3ada",
   "metadata": {},
   "outputs": [],
   "source": [
    "query_list = [\"KT 사장님 배달POS의 비용은?\", \"해지 위약금은 얼마나 해?\", \"사용량이 많은 사람이 쓰기 좋은 요금제를 추천해줘\", \"giga wifi에 대해서 간단하게 설명해줘\", \"가장 비싼 요금제는 뭐야?\"]"
   ]
  },
  {
   "cell_type": "markdown",
   "id": "c154fb40",
   "metadata": {},
   "source": [
    "### 비교1) 순차적으로 처리"
   ]
  },
  {
   "cell_type": "code",
   "execution_count": 26,
   "id": "a0cc00da",
   "metadata": {},
   "outputs": [
    {
     "name": "stdout",
     "output_type": "stream",
     "text": [
      "[질문 1]KT 사장님 배달POS의 비용은?\n",
      "[답변 1] KT 사장님 배달POS의 비용은 월 22,000원입니다. (출처: \"KT 사장님 배달 POS 다양항 배달앱 주문수락과 배달대행 호출을 동시에 처리하는 배달 중개 서비스... 월 22,000원\", 페이지 208)\n",
      "\n",
      "[질문 2]해지 위약금은 얼마나 해?\n",
      "[답변 2] 해지 위약금은 약정기간과 이용기간에 따라 다릅니다. 예를 들어, 1년 약정의 경우 계약 후 6개월 이내는 0%, 7~9개월 이내는 20%, 10~12개월 이내는 130%의 할인반환금 할인율을 적용해 위약금을 부과합니다. 2년 약정은 계약 후 6개월 이내 0%, 7~12개월 이내 60%, 13~16개월 이내 95%, 17~20개월 이내 140%, 21~24개월 이내 180% 할인율이 적용됩니다. 3년 약정은 계약 후 6개월 이내 0%, 7~12개월 이내 30% 등입니다. 또한, 약정 이외의 단말수에 대해 최근 6개월 평균이용요금에 3을 곱한 금액으로 위약금을 산정하기도 합니다(“약정 이외의 단말수 * 최근 6개월 평균이용요금 * 3”). (출처: 제공 컨텍스트, 페이지 165)\n",
      "\n",
      "[질문 3]사용량이 많은 사람이 쓰기 좋은 요금제를 추천해줘\n",
      "[답변 3] 사용량이 많은 사람이 쓰기 좋은 요금제는 기본 제공 용량과 추가 사용 요금을 고려해야 합니다. 컨텍스트에 따르면, KT biz kornet 기본 이용 용량은 10MB이며, 초과 사용 시 월 8,800원(128Kbps~2.048Mbps) 요금이 부과됩니다(출처: \"128Kbps~2.048Mbps FDSU,FDSL,HSM,CSU 월 8,800 원\", \"단말기기 접속 이용고객이 KT biz kornet서버의 보조기억장치 기본 이용 용량(10MB)을 초과하여 사용하는 요금\" / 페이지 미상).\n",
      "\n",
      "또한 무선온라인 전용 접속 요금제 중에서는 기본 20MB를 제공하는 월 5,500원 요금제가 있습니다(출처: \"- 5 월 5,500원/ 기본 20MB\" / 페이지 미상).\n",
      "\n",
      "따라서, 대용량 이용자라면 기본 제공 용량이 큰 무선온라인의 월 5,500원(기본 20MB) 요금제나, KT biz kornet의 기본 이용 용량 10MB 초과 시 월 8,800원 요금제를 검토할 수 있습니다.\n",
      "\n",
      "요약:  \n",
      "- KT biz kornet : 기본 10MB 초과 시 월 8,800원  \n",
      "- 무선온라인 : 기본 20MB 월 5,500원 요금제 추천  \n",
      "\n",
      "(출처: 제공된 컨텍스트 전반)\n",
      "\n",
      "[질문 4]giga wifi에 대해서 간단하게 설명해줘\n",
      "[답변 4] GiGA WiFi는 KT에서 제공하는 와이파이 서비스로, 최대 속도 10G/5G/2.5G/1G 등 다양한 인터넷 상품과 연동하여 사용할 수 있습니다. 예를 들어, GiGA WiFi Buddy는 월 임대료 1,100원 할인이 적용되는 상품이며, GiGA WiFi home, home plus, premium 등 여러 종류가 있으며 요금은 49,500원에서 165,000원까지 다양합니다(출처: p203, p203~204).\n",
      "\n",
      "[질문 5]가장 비싼 요금제는 뭐야?\n",
      "[답변 5] 제공된 컨텍스트에는 가장 비싼 요금제에 대한 명확한 가격 정보가 없습니다. 따라서 가장 비싼 요금제가 무엇인지 알 수 없습니다. (출처: 57쪽)\n",
      "\n",
      "single 처리 시간: 8.03165602684021초\n"
     ]
    }
   ],
   "source": [
    "start_time = time.time()\n",
    "for i, query in enumerate(query_list):\n",
    "    print(f\"[질문 {i+1}]{query}\")\n",
    "    print(f\"[답변 {i+1}] {rag_chain.invoke(query)}\\n\")\n",
    "end_time = time.time()\n",
    "print(f\"single 처리 시간: {end_time - start_time}초\")"
   ]
  },
  {
   "cell_type": "markdown",
   "id": "065a0383",
   "metadata": {},
   "source": [
    "### 비교2) 배치로 처리"
   ]
  },
  {
   "cell_type": "code",
   "execution_count": 23,
   "id": "396cc5ee",
   "metadata": {},
   "outputs": [
    {
     "name": "stdout",
     "output_type": "stream",
     "text": [
      "[질문 1] KT 사장님 배달POS의 비용은?\n",
      "[답변 1] KT 사장님 배달POS 비용은 월 22,000원입니다. 또한, 서비스 가입 시 최초 1회 2개월간 월정액 요금 전액 할인이 적용됩니다.  \n",
      "출처: \"KT 사장님 배달POS ... 월 22,000원 서비스 가입시 최초 1회 2개월 간 월정액 요금 전액 할인\" (본문 중간)  \n",
      "페이지: 209\n",
      "\n",
      "[질문 2] 해지 위약금은 얼마나 해?\n",
      "[답변 2] 해지 위약금은 약정기간과 이용기간에 따라 다릅니다. 할인반환금에 할인율을 적용해 부과하는데, 예를 들어 1년 약정 시 계약 후 6개월 이내는 0%, 7~9개월 이내는 20%, 10~12개월 이내는 130%입니다. 2년 약정은 6개월 이내 0%, 7~12개월 이내 60%, 13~16개월 95%, 17~20개월 140%, 21~24개월 180%입니다. 3년 약정은 6개월 이내 0%, 7~12개월 이내 30%입니다. (출처: 페이지 165) \n",
      "\n",
      "또한, 단말수 초과 시 \"약정 이외의 단말수 × 최근 6개월 평균이용요금 × 3\" 산정식을 통해 실비성 위약금을 부과할 수 있습니다. (출처: 페이지 165)\n",
      "\n",
      "[질문 3] 사용량이 많은 사람이 쓰기 좋은 요금제를 추천해줘\n",
      "[답변 3] 사용량이 많은 사람이 쓰기 좋은 요금제로는 '월 5,500원에 기본 20MB 제공' 요금제가 적합합니다. 컨텍스트에 따르면, \"기본 20MB 제공에 월 5,500원\" 요금제가 있으며, 이는 가장 많은 기본 제공 용량을 포함하는 요금제입니다(페이지 하단 무선온라인 전용 접속 부분).\n",
      "\n",
      "[질문 4] giga wifi에 대해서 간단하게 설명해줘\n",
      "[답변 4] GiGA WiFi는 KT에서 제공하는 다양한 WiFi AP 장비와 서비스 브랜드명으로, 최대 10G 속도를 지원하는 인터넷 상품과 함께 사용할 수 있습니다. 예를 들어, GiGA WiFi home, GiGA WiFi home plus, GiGA WiFi Premium 등 여러 종류가 있으며 요금은 49,500원(홈 플러스)에서 165,000원(프리미엄)까지 다양합니다. 또한, GiGA WiFi Buddy라는 월 임대료 할인 혜택도 있는데, 1,100원 할인(해지시까지)을 제공합니다(출처: 페이지 203, 203번 문서 일부).\n",
      "\n",
      "[질문 5] 가장 비싼 요금제는 뭐야?\n",
      "[답변 5] 컨텍스트 내에서는 가장 비싼 요금제가 구체적으로 명시되어 있지 않습니다. (\"가장 비싼 요금제\"에 대한 정보가 없으며, 제공된 정보는 할인 상품과 요금감면 대상 등에 관한 내용임) 따라서 \"가장 비싼 요금제\"가 무엇인지 모릅니다. (출처: 제공된 표준 상품 및 할인정보, p.57)\n",
      "\n",
      "batch 처리 시간: 2.2965922355651855초\n"
     ]
    }
   ],
   "source": [
    "start_time = time.time()\n",
    "results = rag_chain.batch(query_list)\n",
    "end_time = time.time()\n",
    "for i, r in enumerate(results):\n",
    "    print(f\"[질문 {i+1}] {query_list[i]}\")\n",
    "    print(f\"[답변 {i+1}] {r}\\n\")\n",
    "\n",
    "print(f\"batch 처리 시간: {end_time - start_time}초\")"
   ]
  },
  {
   "cell_type": "markdown",
   "id": "8f540686",
   "metadata": {},
   "source": [
    "### 비교3) 리트리버를 비동기 형식으로 처리하기"
   ]
  },
  {
   "cell_type": "code",
   "execution_count": 24,
   "id": "79e8de43",
   "metadata": {},
   "outputs": [
    {
     "name": "stdout",
     "output_type": "stream",
     "text": [
      "Q: KT 사장님 배달POS의 비용은?\n",
      "A: KT 사장님 배달POS 비용은 월 22,000원입니다. 서비스 가입 시 최초 1회 2개월 간 월정액 요금 전액 할인 프로모션도 있습니다.  \n",
      "출처: \"KT 사장님 배달POS ... 월 22,000원 서비스 가입시 최초 1회 2개월 간 월정액 요금 전액 할인\" (페이지 209)\n",
      "\n",
      "Q: 해지 위약금은 얼마나 해?\n",
      "A: 해지 위약금은 다음과 같습니다.\n",
      "\n",
      "1. 약정 외 단말 수 * 최근 6개월 평균 이용요금 * 3 (고객 이용기간이 6개월 미만 시 해당 기간 평균 요금 적용)  \n",
      "2. 장비 임대료 선납 약정의 경우, 약정 기간과 이용 기간에 따라 할인반환금 할인율을 적용해 위약금을 부과함.\n",
      "\n",
      "예를 들면, 1년 약정일 때  \n",
      "- 계약 후 6개월 이내에는 위약금 없음(0%)  \n",
      "- 7~9개월 이내 20%  \n",
      "- 10~12개월 이내 130% 부과\n",
      "\n",
      "2년, 3년 약정도 각각 이용 기간별로 할인율이 달라짐(예: 2년 7~12개월 60%, 3년 7~12개월 30%).\n",
      "\n",
      "*출처: 제공된 컨텍스트 내 할인반환금 할인율 표, 165페이지*\n",
      "\n",
      "Q: 사용량이 많은 사람이 쓰기 좋은 요금제를 추천해줘\n",
      "A: 사용량이 많은 사람에게 적합한 요금제는 \"스페셜\" 요금 할인형으로, 월 3,300원의 할인 혜택을 받을 수 있는 요금제입니다. 또한, 장기 계약 시 4개월 이용료 면제(1,13,25,37개월차)가 제공되어 부담을 줄일 수 있습니다(출처: \"요금 할인형\" 표, 할인금액 스페셜 월 3,300원, 1년이상 계약 시 면제 혜택, 페이지 1).\n",
      "\n",
      "Q: giga wifi에 대해서 간단하게 설명해줘\n",
      "A: GiGA WiFi는 KT에서 제공하는 고속 무선 인터넷 서비스로, 10GiGA 인터넷부터 기가 인터넷(최대 1G)까지 다양한 인터넷 상품과 연계하여 이용할 수 있습니다. 주요 상품으로는 GiGA WiFi home, home plus, premium, premium plus 등이 있으며, 요금은 49,500원부터 165,000원까지 다양합니다. 또한, GiGA WiFi Buddy를 통해 월 임대료 1,100원 할인을 받을 수 있습니다. (출처: 페이지 203)\n",
      "\n",
      "Q: 가장 비싼 요금제는 뭐야?\n",
      "A: 컨텍스트에 가장 비싼 요금제 명확히 기재되어 있지 않습니다. 다만, 할인액 기준으로 보면 '인터넷 슈퍼프리미엄', '인터넷 프리미엄 플러스', '오피스넷 슈퍼프리미엄', '오피스넷 프리미엄 플러스' 등이 KT WiFi 7D(4,950원) 할인 대상 요금제로 나타나 있습니다. (출처: 신규가입 요금제별 할인상품/할인액, 페이지 57)\n",
      "\n",
      "batch 처리 시간: 2.1715734004974365초\n"
     ]
    }
   ],
   "source": [
    "import asyncio\n",
    "\n",
    "async def async_retrieve_all():\n",
    "    loop = asyncio.get_event_loop()\n",
    "    tasks = [loop.run_in_executor(None, retriever.get_relevant_documents, q) for q in query_list]\n",
    "    return await asyncio.gather(*tasks)\n",
    "\n",
    "async def main():\n",
    "    retrieved_docs = await async_retrieve_all()\n",
    "\n",
    "    contexts = [\"\\n\".join([d.page_content for d in docs]) for docs in retrieved_docs]\n",
    "    messages_batch = [\n",
    "        [{\"role\": \"user\", \"content\": prompt.format(question=q, context=c)}]\n",
    "        for q, c in zip(query_list, contexts)\n",
    "    ]\n",
    "\n",
    "    responses = llm.batch(messages_batch)\n",
    "\n",
    "    for q, r in zip(query_list, responses):\n",
    "        print(f\"Q: {q}\\nA: {r.content}\\n\")\n",
    "\n",
    "start_time = time.time()\n",
    "await main()\n",
    "end_time = time.time()\n",
    "print(f\"batch 처리 시간: {end_time - start_time}초\")"
   ]
  },
  {
   "cell_type": "code",
   "execution_count": null,
   "id": "14e1dcb9",
   "metadata": {},
   "outputs": [],
   "source": []
  }
 ],
 "metadata": {
  "kernelspec": {
   "display_name": ".venv",
   "language": "python",
   "name": "python3"
  },
  "language_info": {
   "codemirror_mode": {
    "name": "ipython",
    "version": 3
   },
   "file_extension": ".py",
   "mimetype": "text/x-python",
   "name": "python",
   "nbconvert_exporter": "python",
   "pygments_lexer": "ipython3",
   "version": "3.12.3"
  }
 },
 "nbformat": 4,
 "nbformat_minor": 5
}
